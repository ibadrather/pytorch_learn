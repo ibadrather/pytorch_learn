{
 "cells": [
  {
   "cell_type": "markdown",
   "id": "737cd73b",
   "metadata": {},
   "source": [
    "## Timeseries with LSTM\n",
    "\n",
    "Source: https://colab.research.google.com/github/dlmacedo/starter-academic/blob/master/content/courses/deeplearning/notebooks/pytorch/Time_Series_Prediction_with_LSTM_Using_PyTorch.ipynb#scrollTo=BKMrjozgU3I_"
   ]
  },
  {
   "cell_type": "code",
   "execution_count": 17,
   "id": "43c15d39",
   "metadata": {},
   "outputs": [],
   "source": [
    "import numpy as np\n",
    "import matplotlib.pyplot as plt\n",
    "import pandas as pd\n",
    "import torch\n",
    "import torch.nn as nn\n",
    "from torch.autograd import Variable\n",
    "from sklearn.preprocessing import MinMaxScaler"
   ]
  },
  {
   "cell_type": "code",
   "execution_count": 18,
   "id": "13c0d960",
   "metadata": {},
   "outputs": [
    {
     "data": {
      "image/png": "[encoded data removed]",
      "text/plain": [
       "<Figure size 432x288 with 1 Axes>"
      ]
     },
     "metadata": {
      "needs_background": "light"
     },
     "output_type": "display_data"
    }
   ],
   "source": [
    "training_set = pd.read_csv('data/airline-passengers.csv')\n",
    "#training_set = pd.read_csv('data/shampoo.csv')\n",
    "\n",
    "training_set = training_set.iloc[:,1:2].values\n",
    "\n",
    "#plt.plot(training_set, label = 'Shampoo Sales Data')\n",
    "plt.plot(training_set, label = 'Airline Passangers Data')\n",
    "plt.show()"
   ]
  },
  {
   "cell_type": "code",
   "execution_count": 19,
   "id": "5eb4985b",
   "metadata": {},
   "outputs": [
    {
     "name": "stdout",
     "output_type": "stream",
     "text": [
      "Training Data Shape (144, 1)\n"
     ]
    }
   ],
   "source": [
    "print(\"Training Data Shape\", training_set.shape)"
   ]
  },
  {
   "cell_type": "code",
   "execution_count": 20,
   "id": "b0b68d69",
   "metadata": {},
   "outputs": [],
   "source": [
    "def sliding_windows(data, seq_length):\n",
    "    x = []\n",
    "    y = []\n",
    "\n",
    "    for i in range(len(data)-seq_length-1):\n",
    "        _x = data[i:(i+seq_length)]\n",
    "        _y = data[i+seq_length]\n",
    "        x.append(_x)\n",
    "        y.append(_y)\n",
    "\n",
    "    return np.array(x),np.array(y)"
   ]
  },
  {
   "cell_type": "code",
   "execution_count": 21,
   "id": "f965c157",
   "metadata": {},
   "outputs": [],
   "source": [
    "# Normalising the Data\n",
    "sc = MinMaxScaler()\n",
    "training_data = sc.fit_transform(training_set)"
   ]
  },
  {
   "cell_type": "code",
   "execution_count": 22,
   "id": "f1603b14",
   "metadata": {},
   "outputs": [
    {
     "name": "stdout",
     "output_type": "stream",
     "text": [
      "Input Shape (139, 4, 1)\n",
      "Output Shape (139, 1)\n"
     ]
    }
   ],
   "source": [
    "# Getting Data in Sequences\n",
    "seq_length = 4\n",
    "x, y = sliding_windows(training_data, seq_length)\n",
    "print(\"Input Shape\", x.shape)\n",
    "print(\"Output Shape\", y.shape)"
   ]
  },
  {
   "cell_type": "code",
   "execution_count": 23,
   "id": "7f77f9a6",
   "metadata": {},
   "outputs": [
    {
     "name": "stdout",
     "output_type": "stream",
     "text": [
      "X:  [[0.01544402]\n",
      " [0.02702703]\n",
      " [0.05405405]\n",
      " [0.04826255]]\n",
      "Y:  [0.03281853]\n"
     ]
    }
   ],
   "source": [
    "print(\"X: \", x[0])\n",
    "print(\"Y: \", y[0])"
   ]
  },
  {
   "cell_type": "code",
   "execution_count": 24,
   "id": "214ca1dd",
   "metadata": {},
   "outputs": [
    {
     "name": "stdout",
     "output_type": "stream",
     "text": [
      "Train Size: 93\n",
      "Test Size 46\n"
     ]
    }
   ],
   "source": [
    "# Train Test Split\n",
    "train_size = int(len(y) * 0.67)\n",
    "test_size = len(y) - train_size\n",
    "print(\"Train Size:\",train_size)\n",
    "print(\"Test Size\",test_size)"
   ]
  },
  {
   "cell_type": "code",
   "execution_count": 25,
   "id": "e607814e",
   "metadata": {},
   "outputs": [],
   "source": [
    "dataX = Variable(torch.Tensor(np.array(x)))\n",
    "dataY = Variable(torch.Tensor(np.array(y)))\n",
    "\n",
    "trainX = Variable(torch.Tensor(np.array(x[:train_size])))\n",
    "trainY = Variable(torch.Tensor(np.array(y[:train_size])))\n",
    "\n",
    "testX = Variable(torch.Tensor(np.array(x[train_size:])))\n",
    "testY = Variable(torch.Tensor(np.array(y[train_size:])))"
   ]
  },
  {
   "cell_type": "code",
   "execution_count": 26,
   "id": "a2d8c171",
   "metadata": {},
   "outputs": [
    {
     "data": {
      "text/plain": [
       "torch.Size([93, 4, 1])"
      ]
     },
     "execution_count": 26,
     "metadata": {},
     "output_type": "execute_result"
    }
   ],
   "source": [
    "trainX.shape"
   ]
  },
  {
   "cell_type": "markdown",
   "id": "9c32fede",
   "metadata": {},
   "source": [
    "### LSTM Model"
   ]
  },
  {
   "cell_type": "code",
   "execution_count": 27,
   "id": "02519157",
   "metadata": {},
   "outputs": [],
   "source": [
    "class LSTM(nn.Module):\n",
    "\n",
    "    def __init__(self, num_classes, input_size, hidden_size, num_layers):\n",
    "        super(LSTM, self).__init__()\n",
    "        \n",
    "        self.num_classes = num_classes\n",
    "        self.num_layers = num_layers\n",
    "        self.input_size = input_size\n",
    "        self.hidden_size = hidden_size\n",
    "        self.seq_length = seq_length\n",
    "        \n",
    "        self.lstm = nn.LSTM(input_size=input_size, hidden_size=hidden_size,\n",
    "                            num_layers=num_layers, batch_first=True)\n",
    "        \n",
    "        self.fc = nn.Linear(hidden_size, num_classes)\n",
    "\n",
    "    def forward(self, x):\n",
    "        h_0 = Variable(torch.zeros(\n",
    "            self.num_layers, x.size(0), self.hidden_size))\n",
    "        \n",
    "        c_0 = Variable(torch.zeros(\n",
    "            self.num_layers, x.size(0), self.hidden_size))\n",
    "        \n",
    "        # Propagate input through LSTM\n",
    "        ula, (h_out, _) = self.lstm(x, (h_0, c_0))\n",
    "        \n",
    "        h_out = h_out.view(-1, self.hidden_size)\n",
    "        \n",
    "        out = self.fc(h_out)\n",
    "        \n",
    "        return out"
   ]
  },
  {
   "cell_type": "code",
   "execution_count": 28,
   "id": "602673cd",
   "metadata": {},
   "outputs": [],
   "source": [
    "# Model Parameters\n",
    "num_epochs = 2000\n",
    "learning_rate = 0.01\n",
    "\n",
    "input_size = 1\n",
    "hidden_size = 2\n",
    "num_layers = 1\n",
    "\n",
    "num_classes = 1"
   ]
  },
  {
   "cell_type": "code",
   "execution_count": 29,
   "id": "60b8813b",
   "metadata": {},
   "outputs": [],
   "source": [
    "# Model\n",
    "lstm = LSTM(num_classes, input_size, hidden_size, num_layers)\n",
    "\n",
    "criterion = torch.nn.MSELoss()    # mean-squared error for regression\n",
    "optimizer = torch.optim.Adam(lstm.parameters(), lr=learning_rate)\n",
    "#optimizer = torch.optim.SGD(lstm.parameters(), lr=learning_rate)"
   ]
  },
  {
   "cell_type": "code",
   "execution_count": 30,
   "id": "43f576b9",
   "metadata": {},
   "outputs": [
    {
     "data": {
      "text/plain": [
       "torch.Size([93, 4, 1])"
      ]
     },
     "execution_count": 30,
     "metadata": {},
     "output_type": "execute_result"
    }
   ],
   "source": [
    "trainX.shape"
   ]
  },
  {
   "cell_type": "code",
   "execution_count": 34,
   "id": "6dcaf9b6",
   "metadata": {},
   "outputs": [
    {
     "name": "stdout",
     "output_type": "stream",
     "text": [
      "Epoch: 0, loss: 0.00158\n",
      "Epoch: 100, loss: 0.00158\n",
      "Epoch: 200, loss: 0.00157\n",
      "Epoch: 300, loss: 0.00157\n",
      "Epoch: 400, loss: 0.00157\n",
      "Epoch: 500, loss: 0.00156\n",
      "Epoch: 600, loss: 0.00156\n",
      "Epoch: 700, loss: 0.00156\n",
      "Epoch: 800, loss: 0.00155\n",
      "Epoch: 900, loss: 0.00155\n",
      "Epoch: 1000, loss: 0.00154\n",
      "Epoch: 1100, loss: 0.00154\n",
      "Epoch: 1200, loss: 0.00152\n",
      "Epoch: 1300, loss: 0.00147\n",
      "Epoch: 1400, loss: 0.00146\n",
      "Epoch: 1500, loss: 0.00146\n",
      "Epoch: 1600, loss: 0.00145\n",
      "Epoch: 1700, loss: 0.00145\n",
      "Epoch: 1800, loss: 0.00144\n",
      "Epoch: 1900, loss: 0.00145\n"
     ]
    }
   ],
   "source": [
    "# Train the model\n",
    "for epoch in range(num_epochs):\n",
    "    outputs = lstm(trainX)\n",
    "    optimizer.zero_grad()\n",
    "    \n",
    "    # obtain the loss function\n",
    "    loss = criterion(outputs, trainY)\n",
    "    \n",
    "    loss.backward()\n",
    "    \n",
    "    optimizer.step()\n",
    "    if epoch % 100 == 0:\n",
    "        print(\"Epoch: %d, loss: %1.5f\" % (epoch, loss.item()))"
   ]
  },
  {
   "cell_type": "code",
   "execution_count": 35,
   "id": "f4bb13c4",
   "metadata": {},
   "outputs": [
    {
     "name": "stdout",
     "output_type": "stream",
     "text": [
      " Data X Shape: torch.Size([139, 4, 1])\n",
      " Data Y Shape: torch.Size([139, 1])\n"
     ]
    }
   ],
   "source": [
    "print(\" Data X Shape:\", dataX.shape)\n",
    "print(\" Data Y Shape:\", dataY.shape)"
   ]
  },
  {
   "cell_type": "markdown",
   "id": "3a9cfb98",
   "metadata": {},
   "source": [
    "## Evaluation"
   ]
  },
  {
   "cell_type": "code",
   "execution_count": 39,
   "id": "42be3dc4",
   "metadata": {},
   "outputs": [
    {
     "data": {
      "image/png": "[encoded data removed]",
      "text/plain": [
       "<Figure size 432x288 with 1 Axes>"
      ]
     },
     "metadata": {
      "needs_background": "light"
     },
     "output_type": "display_data"
    }
   ],
   "source": [
    "lstm.eval()\n",
    "train_predict = lstm(dataX)\n",
    "\n",
    "data_predict = train_predict.data.numpy()\n",
    "dataY_plot = dataY.data.numpy()\n",
    "\n",
    "data_predict = sc.inverse_transform(data_predict)\n",
    "dataY_plot = sc.inverse_transform(dataY_plot)\n",
    "\n",
    "plt.axvline(x=train_size, c='r', linestyle=':')\n",
    "\n",
    "plt.plot(dataY_plot, label=\"GT\")\n",
    "plt.plot(data_predict, label=\"Predicted\")\n",
    "plt.suptitle('Time-Series Prediction')\n",
    "plt.legend()\n",
    "plt.show()"
   ]
  },
  {
   "cell_type": "code",
   "execution_count": null,
   "id": "2d72652a",
   "metadata": {},
   "outputs": [],
   "source": []
  }
 ],
 "metadata": {
  "kernelspec": {
   "display_name": "Python 3 (ipykernel)",
   "language": "python",
   "name": "python3"
  },
  "language_info": {
   "codemirror_mode": {
    "name": "ipython",
    "version": 3
   },
   "file_extension": ".py",
   "mimetype": "text/x-python",
   "name": "python",
   "nbconvert_exporter": "python",
   "pygments_lexer": "ipython3",
   "version": "3.8.0"
  }
 },
 "nbformat": 4,
 "nbformat_minor": 5
}
