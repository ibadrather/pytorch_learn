{
  "nbformat": 4,
  "nbformat_minor": 0,
  "metadata": {
    "colab": {
      "name": "Untitled0.ipynb",
      "provenance": [],
      "authorship_tag": "ABX9TyN4+/cVd0FmabNLlrJYkYyQ",
      "include_colab_link": true
    },
    "kernelspec": {
      "name": "python3",
      "display_name": "Python 3"
    },
    "language_info": {
      "name": "python"
    },
    "gpuClass": "standard",
    "widgets": {
      "application/vnd.jupyter.widget-state+json": {
        "84fa14103c1640cab0022a2e81558266": {
          "model_module": "@jupyter-widgets/controls",
          "model_name": "HBoxModel",
          "model_module_version": "1.5.0",
          "state": {
            "_dom_classes": [],
            "_model_module": "@jupyter-widgets/controls",
            "_model_module_version": "1.5.0",
            "_model_name": "HBoxModel",
            "_view_count": null,
            "_view_module": "@jupyter-widgets/controls",
            "_view_module_version": "1.5.0",
            "_view_name": "HBoxView",
            "box_style": "",
            "children": [
              "IPY_MODEL_143355ed9f764cdba5971b1065bbcc26",
              "IPY_MODEL_8b0d005fc8f049599a2a6e8cca122e47",
              "IPY_MODEL_926d5bc282e44af8921217fadbcbafb6"
            ],
            "layout": "IPY_MODEL_3ca81123dee546f8851c76118e0a848a"
          }
        },
        "143355ed9f764cdba5971b1065bbcc26": {
          "model_module": "@jupyter-widgets/controls",
          "model_name": "HTMLModel",
          "model_module_version": "1.5.0",
          "state": {
            "_dom_classes": [],
            "_model_module": "@jupyter-widgets/controls",
            "_model_module_version": "1.5.0",
            "_model_name": "HTMLModel",
            "_view_count": null,
            "_view_module": "@jupyter-widgets/controls",
            "_view_module_version": "1.5.0",
            "_view_name": "HTMLView",
            "description": "",
            "description_tooltip": null,
            "layout": "IPY_MODEL_4f609e9d2d824f4c91898de04e20dc59",
            "placeholder": "​",
            "style": "IPY_MODEL_c806f71b153b4857bfba930ec4783c4d",
            "value": " 21%"
          }
        },
        "8b0d005fc8f049599a2a6e8cca122e47": {
          "model_module": "@jupyter-widgets/controls",
          "model_name": "FloatProgressModel",
          "model_module_version": "1.5.0",
          "state": {
            "_dom_classes": [],
            "_model_module": "@jupyter-widgets/controls",
            "_model_module_version": "1.5.0",
            "_model_name": "FloatProgressModel",
            "_view_count": null,
            "_view_module": "@jupyter-widgets/controls",
            "_view_module_version": "1.5.0",
            "_view_name": "ProgressView",
            "bar_style": "",
            "description": "",
            "description_tooltip": null,
            "layout": "IPY_MODEL_1b9effeacdf34d18bf3b48bfa6d2f127",
            "max": 1295135,
            "min": 0,
            "orientation": "horizontal",
            "style": "IPY_MODEL_c07f83bb804e4996b7b7d1caf6eb42a7",
            "value": 275161
          }
        },
        "926d5bc282e44af8921217fadbcbafb6": {
          "model_module": "@jupyter-widgets/controls",
          "model_name": "HTMLModel",
          "model_module_version": "1.5.0",
          "state": {
            "_dom_classes": [],
            "_model_module": "@jupyter-widgets/controls",
            "_model_module_version": "1.5.0",
            "_model_name": "HTMLModel",
            "_view_count": null,
            "_view_module": "@jupyter-widgets/controls",
            "_view_module_version": "1.5.0",
            "_view_name": "HTMLView",
            "description": "",
            "description_tooltip": null,
            "layout": "IPY_MODEL_afbb4f57889d4111b506ee0e96007068",
            "placeholder": "​",
            "style": "IPY_MODEL_14208fe9180644e79fc309567c7af1e4",
            "value": " 275161/1295135 [00:28&lt;01:30, 11313.64it/s]"
          }
        },
        "3ca81123dee546f8851c76118e0a848a": {
          "model_module": "@jupyter-widgets/base",
          "model_name": "LayoutModel",
          "model_module_version": "1.2.0",
          "state": {
            "_model_module": "@jupyter-widgets/base",
            "_model_module_version": "1.2.0",
            "_model_name": "LayoutModel",
            "_view_count": null,
            "_view_module": "@jupyter-widgets/base",
            "_view_module_version": "1.2.0",
            "_view_name": "LayoutView",
            "align_content": null,
            "align_items": null,
            "align_self": null,
            "border": null,
            "bottom": null,
            "display": null,
            "flex": null,
            "flex_flow": null,
            "grid_area": null,
            "grid_auto_columns": null,
            "grid_auto_flow": null,
            "grid_auto_rows": null,
            "grid_column": null,
            "grid_gap": null,
            "grid_row": null,
            "grid_template_areas": null,
            "grid_template_columns": null,
            "grid_template_rows": null,
            "height": null,
            "justify_content": null,
            "justify_items": null,
            "left": null,
            "margin": null,
            "max_height": null,
            "max_width": null,
            "min_height": null,
            "min_width": null,
            "object_fit": null,
            "object_position": null,
            "order": null,
            "overflow": null,
            "overflow_x": null,
            "overflow_y": null,
            "padding": null,
            "right": null,
            "top": null,
            "visibility": null,
            "width": null
          }
        },
        "4f609e9d2d824f4c91898de04e20dc59": {
          "model_module": "@jupyter-widgets/base",
          "model_name": "LayoutModel",
          "model_module_version": "1.2.0",
          "state": {
            "_model_module": "@jupyter-widgets/base",
            "_model_module_version": "1.2.0",
            "_model_name": "LayoutModel",
            "_view_count": null,
            "_view_module": "@jupyter-widgets/base",
            "_view_module_version": "1.2.0",
            "_view_name": "LayoutView",
            "align_content": null,
            "align_items": null,
            "align_self": null,
            "border": null,
            "bottom": null,
            "display": null,
            "flex": null,
            "flex_flow": null,
            "grid_area": null,
            "grid_auto_columns": null,
            "grid_auto_flow": null,
            "grid_auto_rows": null,
            "grid_column": null,
            "grid_gap": null,
            "grid_row": null,
            "grid_template_areas": null,
            "grid_template_columns": null,
            "grid_template_rows": null,
            "height": null,
            "justify_content": null,
            "justify_items": null,
            "left": null,
            "margin": null,
            "max_height": null,
            "max_width": null,
            "min_height": null,
            "min_width": null,
            "object_fit": null,
            "object_position": null,
            "order": null,
            "overflow": null,
            "overflow_x": null,
            "overflow_y": null,
            "padding": null,
            "right": null,
            "top": null,
            "visibility": null,
            "width": null
          }
        },
        "c806f71b153b4857bfba930ec4783c4d": {
          "model_module": "@jupyter-widgets/controls",
          "model_name": "DescriptionStyleModel",
          "model_module_version": "1.5.0",
          "state": {
            "_model_module": "@jupyter-widgets/controls",
            "_model_module_version": "1.5.0",
            "_model_name": "DescriptionStyleModel",
            "_view_count": null,
            "_view_module": "@jupyter-widgets/base",
            "_view_module_version": "1.2.0",
            "_view_name": "StyleView",
            "description_width": ""
          }
        },
        "1b9effeacdf34d18bf3b48bfa6d2f127": {
          "model_module": "@jupyter-widgets/base",
          "model_name": "LayoutModel",
          "model_module_version": "1.2.0",
          "state": {
            "_model_module": "@jupyter-widgets/base",
            "_model_module_version": "1.2.0",
            "_model_name": "LayoutModel",
            "_view_count": null,
            "_view_module": "@jupyter-widgets/base",
            "_view_module_version": "1.2.0",
            "_view_name": "LayoutView",
            "align_content": null,
            "align_items": null,
            "align_self": null,
            "border": null,
            "bottom": null,
            "display": null,
            "flex": null,
            "flex_flow": null,
            "grid_area": null,
            "grid_auto_columns": null,
            "grid_auto_flow": null,
            "grid_auto_rows": null,
            "grid_column": null,
            "grid_gap": null,
            "grid_row": null,
            "grid_template_areas": null,
            "grid_template_columns": null,
            "grid_template_rows": null,
            "height": null,
            "justify_content": null,
            "justify_items": null,
            "left": null,
            "margin": null,
            "max_height": null,
            "max_width": null,
            "min_height": null,
            "min_width": null,
            "object_fit": null,
            "object_position": null,
            "order": null,
            "overflow": null,
            "overflow_x": null,
            "overflow_y": null,
            "padding": null,
            "right": null,
            "top": null,
            "visibility": null,
            "width": null
          }
        },
        "c07f83bb804e4996b7b7d1caf6eb42a7": {
          "model_module": "@jupyter-widgets/controls",
          "model_name": "ProgressStyleModel",
          "model_module_version": "1.5.0",
          "state": {
            "_model_module": "@jupyter-widgets/controls",
            "_model_module_version": "1.5.0",
            "_model_name": "ProgressStyleModel",
            "_view_count": null,
            "_view_module": "@jupyter-widgets/base",
            "_view_module_version": "1.2.0",
            "_view_name": "StyleView",
            "bar_color": null,
            "description_width": ""
          }
        },
        "afbb4f57889d4111b506ee0e96007068": {
          "model_module": "@jupyter-widgets/base",
          "model_name": "LayoutModel",
          "model_module_version": "1.2.0",
          "state": {
            "_model_module": "@jupyter-widgets/base",
            "_model_module_version": "1.2.0",
            "_model_name": "LayoutModel",
            "_view_count": null,
            "_view_module": "@jupyter-widgets/base",
            "_view_module_version": "1.2.0",
            "_view_name": "LayoutView",
            "align_content": null,
            "align_items": null,
            "align_self": null,
            "border": null,
            "bottom": null,
            "display": null,
            "flex": null,
            "flex_flow": null,
            "grid_area": null,
            "grid_auto_columns": null,
            "grid_auto_flow": null,
            "grid_auto_rows": null,
            "grid_column": null,
            "grid_gap": null,
            "grid_row": null,
            "grid_template_areas": null,
            "grid_template_columns": null,
            "grid_template_rows": null,
            "height": null,
            "justify_content": null,
            "justify_items": null,
            "left": null,
            "margin": null,
            "max_height": null,
            "max_width": null,
            "min_height": null,
            "min_width": null,
            "object_fit": null,
            "object_position": null,
            "order": null,
            "overflow": null,
            "overflow_x": null,
            "overflow_y": null,
            "padding": null,
            "right": null,
            "top": null,
            "visibility": null,
            "width": null
          }
        },
        "14208fe9180644e79fc309567c7af1e4": {
          "model_module": "@jupyter-widgets/controls",
          "model_name": "DescriptionStyleModel",
          "model_module_version": "1.5.0",
          "state": {
            "_model_module": "@jupyter-widgets/controls",
            "_model_module_version": "1.5.0",
            "_model_name": "DescriptionStyleModel",
            "_view_count": null,
            "_view_module": "@jupyter-widgets/base",
            "_view_module_version": "1.2.0",
            "_view_name": "StyleView",
            "description_width": ""
          }
        }
      }
    },
    "accelerator": "GPU"
  },
  "cells": [
    {
      "cell_type": "markdown",
      "metadata": {
        "id": "view-in-github",
        "colab_type": "text"
      },
      "source": [
        "<a href=\"https://colab.research.google.com/github/ibadrather/pytorch_learn/blob/main/Part%2014%20-%20Multivariate%20Timeseries%20Analysis%20using%20Pytorch%20and%20Pytorch%20Lightening.ipynb\" target=\"_parent\"><img src=\"https://colab.research.google.com/assets/colab-badge.svg\" alt=\"Open In Colab\"/></a>"
      ]
    },
    {
      "cell_type": "markdown",
      "source": [
        "## Multivariate Time Series Forecasting with LSTM using PyTorch and PyTorch Lightning \n",
        "\n",
        "Source: https://www.youtube.com/watch?v=ODEGJ_kh2aA"
      ],
      "metadata": {
        "id": "5i1ZWlLQkBhs"
      }
    },
    {
      "cell_type": "code",
      "source": [
        "!pip install --quiet pytorch-lightning\n",
        "!pip install --quiet tqdm"
      ],
      "metadata": {
        "id": "S2Y09Q8dhC6W"
      },
      "execution_count": 48,
      "outputs": []
    },
    {
      "cell_type": "code",
      "source": [
        "# !pip install --quiet pytorch-lightning#==1.2.5\n",
        "# !pip install --quiet tqdm#==4.59.0"
      ],
      "metadata": {
        "id": "jloIJza_zPIv"
      },
      "execution_count": 49,
      "outputs": []
    },
    {
      "cell_type": "code",
      "source": [
        "!nvidia-smi"
      ],
      "metadata": {
        "colab": {
          "base_uri": "https://localhost:8080/"
        },
        "id": "E0TJUAxGiRaG",
        "outputId": "020c2770-5daa-4e4e-c5de-75ace6212201"
      },
      "execution_count": 50,
      "outputs": [
        {
          "output_type": "stream",
          "name": "stdout",
          "text": [
            "Sun Jun 19 09:07:34 2022       \n",
            "+-----------------------------------------------------------------------------+\n",
            "| NVIDIA-SMI 460.32.03    Driver Version: 460.32.03    CUDA Version: 11.2     |\n",
            "|-------------------------------+----------------------+----------------------+\n",
            "| GPU  Name        Persistence-M| Bus-Id        Disp.A | Volatile Uncorr. ECC |\n",
            "| Fan  Temp  Perf  Pwr:Usage/Cap|         Memory-Usage | GPU-Util  Compute M. |\n",
            "|                               |                      |               MIG M. |\n",
            "|===============================+======================+======================|\n",
            "|   0  Tesla T4            Off  | 00000000:00:04.0 Off |                    0 |\n",
            "| N/A   71C    P0    31W /  70W |   1650MiB / 15109MiB |      0%      Default |\n",
            "|                               |                      |                  N/A |\n",
            "+-------------------------------+----------------------+----------------------+\n",
            "                                                                               \n",
            "+-----------------------------------------------------------------------------+\n",
            "| Processes:                                                                  |\n",
            "|  GPU   GI   CI        PID   Type   Process name                  GPU Memory |\n",
            "|        ID   ID                                                   Usage      |\n",
            "|=============================================================================|\n",
            "+-----------------------------------------------------------------------------+\n"
          ]
        }
      ]
    },
    {
      "cell_type": "code",
      "source": [
        "import seaborn as sns\n",
        "from pylab import rcParams\n",
        "import matplotlib.pyplot as plt\n",
        "from matplotlib import rc\n",
        "import math\n",
        "import matplotlib\n",
        "\n",
        "import pandas as pd\n",
        "import numpy as np\n",
        "from tqdm.notebook import tqdm\n",
        "\n",
        "import torch\n",
        "import torch.autograd as autograd\n",
        "import torch.nn as nn\n",
        "import torch.nn.functional as F\n",
        "import torch.optim as optim\n",
        "\n",
        "import pytorch_lightning as pl\n",
        "from pytorch_lightning.callbacks import ModelCheckpoint, EarlyStopping\n",
        "from pytorch_lightning.loggers import TensorBoardLogger\n",
        "\n",
        "from torch.utils.data import Dataset, DataLoader\n",
        "from sklearn.preprocessing import MinMaxScaler\n",
        "\n",
        "from collections import defaultdict"
      ],
      "metadata": {
        "id": "CnJLCSn83jsH"
      },
      "execution_count": 51,
      "outputs": []
    },
    {
      "cell_type": "markdown",
      "source": [
        "### Styling Settings"
      ],
      "metadata": {
        "id": "zXXSZ9d75jAU"
      }
    },
    {
      "cell_type": "code",
      "source": [
        "%matplotlib inline\n",
        "%config InlineBackend.figure_format='retina'\n",
        "\n",
        "sns.set(style='whitegrid', palette='muted', font_scale=1.2)\n",
        "\n",
        "HAPPY_COLORS_PALETTE = [\"#01BEFE\", \"#FFDD00\", \"#FF7D00\", \"#FF006D\", \"#93D30C\", \"#8F00FF\"]\n",
        "\n",
        "sns.set_palette(sns.color_palette(HAPPY_COLORS_PALETTE))\n",
        "\n",
        "rcParams['figure.figsize'] = 14, 10\n",
        "\n",
        "tqdm.pandas()\n"
      ],
      "metadata": {
        "id": "ohQhw77y4_a7"
      },
      "execution_count": 52,
      "outputs": []
    },
    {
      "cell_type": "code",
      "source": [
        "# Random Seed Pytorch Lightning\n",
        "pl.seed_everything(42)"
      ],
      "metadata": {
        "id": "n2VfHesC5pnO",
        "outputId": "3e2c075b-528f-4af0-8ef4-60b3838ff8be",
        "colab": {
          "base_uri": "https://localhost:8080/"
        }
      },
      "execution_count": 53,
      "outputs": [
        {
          "output_type": "stream",
          "name": "stderr",
          "text": [
            "Global seed set to 42\n"
          ]
        },
        {
          "output_type": "execute_result",
          "data": {
            "text/plain": [
              "42"
            ]
          },
          "metadata": {},
          "execution_count": 53
        }
      ]
    },
    {
      "cell_type": "markdown",
      "source": [
        "## Load Data"
      ],
      "metadata": {
        "id": "ctNtEGq85-3F"
      }
    },
    {
      "cell_type": "code",
      "source": [
        "# Mouting Google Drive\n",
        "from google.colab import drive\n",
        "drive.mount('/content/drive')"
      ],
      "metadata": {
        "id": "XsBeTa686El7",
        "outputId": "ecd3ef83-a1f9-4fd2-8b28-8acdf01a2c34",
        "colab": {
          "base_uri": "https://localhost:8080/"
        }
      },
      "execution_count": 54,
      "outputs": [
        {
          "output_type": "stream",
          "name": "stdout",
          "text": [
            "Drive already mounted at /content/drive; to attempt to forcibly remount, call drive.mount(\"/content/drive\", force_remount=True).\n"
          ]
        }
      ]
    },
    {
      "cell_type": "code",
      "source": [
        "# Dataset Source: https://www.cryptodatadownload.com/data/binance/\n",
        "\n",
        "data_path = \"/content/drive/MyDrive/Colab Notebooks/binance_btc_usd_dataset_processed.csv\"\n",
        "features_df = pd.read_csv(data_path)\n",
        "features_df"
      ],
      "metadata": {
        "id": "00QlkyGz79w9",
        "outputId": "a3153cd1-8fb8-42d8-e809-a4e986f6b792",
        "colab": {
          "base_uri": "https://localhost:8080/",
          "height": 488
        }
      },
      "execution_count": 55,
      "outputs": [
        {
          "output_type": "execute_result",
          "data": {
            "text/plain": [
              "         day_of_week  day_of_month  week_of_year  month      open      high  \\\n",
              "0                  6             8            36      9  10000.00  10000.00   \n",
              "1                  6             8            36      9  10000.00  10000.00   \n",
              "2                  6             8            36      9  10000.00  10000.00   \n",
              "3                  6             8            36      9  10000.00  10000.00   \n",
              "4                  6             8            36      9  10000.00  10000.00   \n",
              "...              ...           ...           ...    ...       ...       ...   \n",
              "1439168            5            18            24      6  20643.04  20643.05   \n",
              "1439169            5            18            24      6  20619.22  20638.02   \n",
              "1439170            5            18            24      6  20619.34  20645.13   \n",
              "1439171            5            18            24      6  20597.03  20599.29   \n",
              "1439172            5            18            24      6  20599.28  20626.34   \n",
              "\n",
              "              low  close_change     close  \n",
              "0        10000.00          0.00  10000.00  \n",
              "1        10000.00          0.00  10000.00  \n",
              "2        10000.00          0.00  10000.00  \n",
              "3        10000.00          0.00  10000.00  \n",
              "4        10000.00          0.00  10000.00  \n",
              "...           ...           ...       ...  \n",
              "1439168  20617.26        -23.83  20619.22  \n",
              "1439169  20613.27          0.11  20619.33  \n",
              "1439170  20597.02        -22.31  20597.02  \n",
              "1439171  20568.90          2.26  20599.28  \n",
              "1439172  20599.28         13.78  20613.06  \n",
              "\n",
              "[1439173 rows x 9 columns]"
            ],
            "text/html": [
              "\n",
              "  <div id=\"df-9df8788e-e4db-4a95-ae58-c268eb04d483\">\n",
              "    <div class=\"colab-df-container\">\n",
              "      <div>\n",
              "<style scoped>\n",
              "    .dataframe tbody tr th:only-of-type {\n",
              "        vertical-align: middle;\n",
              "    }\n",
              "\n",
              "    .dataframe tbody tr th {\n",
              "        vertical-align: top;\n",
              "    }\n",
              "\n",
              "    .dataframe thead th {\n",
              "        text-align: right;\n",
              "    }\n",
              "</style>\n",
              "<table border=\"1\" class=\"dataframe\">\n",
              "  <thead>\n",
              "    <tr style=\"text-align: right;\">\n",
              "      <th></th>\n",
              "      <th>day_of_week</th>\n",
              "      <th>day_of_month</th>\n",
              "      <th>week_of_year</th>\n",
              "      <th>month</th>\n",
              "      <th>open</th>\n",
              "      <th>high</th>\n",
              "      <th>low</th>\n",
              "      <th>close_change</th>\n",
              "      <th>close</th>\n",
              "    </tr>\n",
              "  </thead>\n",
              "  <tbody>\n",
              "    <tr>\n",
              "      <th>0</th>\n",
              "      <td>6</td>\n",
              "      <td>8</td>\n",
              "      <td>36</td>\n",
              "      <td>9</td>\n",
              "      <td>10000.00</td>\n",
              "      <td>10000.00</td>\n",
              "      <td>10000.00</td>\n",
              "      <td>0.00</td>\n",
              "      <td>10000.00</td>\n",
              "    </tr>\n",
              "    <tr>\n",
              "      <th>1</th>\n",
              "      <td>6</td>\n",
              "      <td>8</td>\n",
              "      <td>36</td>\n",
              "      <td>9</td>\n",
              "      <td>10000.00</td>\n",
              "      <td>10000.00</td>\n",
              "      <td>10000.00</td>\n",
              "      <td>0.00</td>\n",
              "      <td>10000.00</td>\n",
              "    </tr>\n",
              "    <tr>\n",
              "      <th>2</th>\n",
              "      <td>6</td>\n",
              "      <td>8</td>\n",
              "      <td>36</td>\n",
              "      <td>9</td>\n",
              "      <td>10000.00</td>\n",
              "      <td>10000.00</td>\n",
              "      <td>10000.00</td>\n",
              "      <td>0.00</td>\n",
              "      <td>10000.00</td>\n",
              "    </tr>\n",
              "    <tr>\n",
              "      <th>3</th>\n",
              "      <td>6</td>\n",
              "      <td>8</td>\n",
              "      <td>36</td>\n",
              "      <td>9</td>\n",
              "      <td>10000.00</td>\n",
              "      <td>10000.00</td>\n",
              "      <td>10000.00</td>\n",
              "      <td>0.00</td>\n",
              "      <td>10000.00</td>\n",
              "    </tr>\n",
              "    <tr>\n",
              "      <th>4</th>\n",
              "      <td>6</td>\n",
              "      <td>8</td>\n",
              "      <td>36</td>\n",
              "      <td>9</td>\n",
              "      <td>10000.00</td>\n",
              "      <td>10000.00</td>\n",
              "      <td>10000.00</td>\n",
              "      <td>0.00</td>\n",
              "      <td>10000.00</td>\n",
              "    </tr>\n",
              "    <tr>\n",
              "      <th>...</th>\n",
              "      <td>...</td>\n",
              "      <td>...</td>\n",
              "      <td>...</td>\n",
              "      <td>...</td>\n",
              "      <td>...</td>\n",
              "      <td>...</td>\n",
              "      <td>...</td>\n",
              "      <td>...</td>\n",
              "      <td>...</td>\n",
              "    </tr>\n",
              "    <tr>\n",
              "      <th>1439168</th>\n",
              "      <td>5</td>\n",
              "      <td>18</td>\n",
              "      <td>24</td>\n",
              "      <td>6</td>\n",
              "      <td>20643.04</td>\n",
              "      <td>20643.05</td>\n",
              "      <td>20617.26</td>\n",
              "      <td>-23.83</td>\n",
              "      <td>20619.22</td>\n",
              "    </tr>\n",
              "    <tr>\n",
              "      <th>1439169</th>\n",
              "      <td>5</td>\n",
              "      <td>18</td>\n",
              "      <td>24</td>\n",
              "      <td>6</td>\n",
              "      <td>20619.22</td>\n",
              "      <td>20638.02</td>\n",
              "      <td>20613.27</td>\n",
              "      <td>0.11</td>\n",
              "      <td>20619.33</td>\n",
              "    </tr>\n",
              "    <tr>\n",
              "      <th>1439170</th>\n",
              "      <td>5</td>\n",
              "      <td>18</td>\n",
              "      <td>24</td>\n",
              "      <td>6</td>\n",
              "      <td>20619.34</td>\n",
              "      <td>20645.13</td>\n",
              "      <td>20597.02</td>\n",
              "      <td>-22.31</td>\n",
              "      <td>20597.02</td>\n",
              "    </tr>\n",
              "    <tr>\n",
              "      <th>1439171</th>\n",
              "      <td>5</td>\n",
              "      <td>18</td>\n",
              "      <td>24</td>\n",
              "      <td>6</td>\n",
              "      <td>20597.03</td>\n",
              "      <td>20599.29</td>\n",
              "      <td>20568.90</td>\n",
              "      <td>2.26</td>\n",
              "      <td>20599.28</td>\n",
              "    </tr>\n",
              "    <tr>\n",
              "      <th>1439172</th>\n",
              "      <td>5</td>\n",
              "      <td>18</td>\n",
              "      <td>24</td>\n",
              "      <td>6</td>\n",
              "      <td>20599.28</td>\n",
              "      <td>20626.34</td>\n",
              "      <td>20599.28</td>\n",
              "      <td>13.78</td>\n",
              "      <td>20613.06</td>\n",
              "    </tr>\n",
              "  </tbody>\n",
              "</table>\n",
              "<p>1439173 rows × 9 columns</p>\n",
              "</div>\n",
              "      <button class=\"colab-df-convert\" onclick=\"convertToInteractive('df-9df8788e-e4db-4a95-ae58-c268eb04d483')\"\n",
              "              title=\"Convert this dataframe to an interactive table.\"\n",
              "              style=\"display:none;\">\n",
              "        \n",
              "  <svg xmlns=\"http://www.w3.org/2000/svg\" height=\"24px\"viewBox=\"0 0 24 24\"\n",
              "       width=\"24px\">\n",
              "    <path d=\"M0 0h24v24H0V0z\" fill=\"none\"/>\n",
              "    <path d=\"M18.56 5.44l.94 2.06.94-2.06 2.06-.94-2.06-.94-.94-2.06-.94 2.06-2.06.94zm-11 1L8.5 8.5l.94-2.06 2.06-.94-2.06-.94L8.5 2.5l-.94 2.06-2.06.94zm10 10l.94 2.06.94-2.06 2.06-.94-2.06-.94-.94-2.06-.94 2.06-2.06.94z\"/><path d=\"M17.41 7.96l-1.37-1.37c-.4-.4-.92-.59-1.43-.59-.52 0-1.04.2-1.43.59L10.3 9.45l-7.72 7.72c-.78.78-.78 2.05 0 2.83L4 21.41c.39.39.9.59 1.41.59.51 0 1.02-.2 1.41-.59l7.78-7.78 2.81-2.81c.8-.78.8-2.07 0-2.86zM5.41 20L4 18.59l7.72-7.72 1.47 1.35L5.41 20z\"/>\n",
              "  </svg>\n",
              "      </button>\n",
              "      \n",
              "  <style>\n",
              "    .colab-df-container {\n",
              "      display:flex;\n",
              "      flex-wrap:wrap;\n",
              "      gap: 12px;\n",
              "    }\n",
              "\n",
              "    .colab-df-convert {\n",
              "      background-color: #E8F0FE;\n",
              "      border: none;\n",
              "      border-radius: 50%;\n",
              "      cursor: pointer;\n",
              "      display: none;\n",
              "      fill: #1967D2;\n",
              "      height: 32px;\n",
              "      padding: 0 0 0 0;\n",
              "      width: 32px;\n",
              "    }\n",
              "\n",
              "    .colab-df-convert:hover {\n",
              "      background-color: #E2EBFA;\n",
              "      box-shadow: 0px 1px 2px rgba(60, 64, 67, 0.3), 0px 1px 3px 1px rgba(60, 64, 67, 0.15);\n",
              "      fill: #174EA6;\n",
              "    }\n",
              "\n",
              "    [theme=dark] .colab-df-convert {\n",
              "      background-color: #3B4455;\n",
              "      fill: #D2E3FC;\n",
              "    }\n",
              "\n",
              "    [theme=dark] .colab-df-convert:hover {\n",
              "      background-color: #434B5C;\n",
              "      box-shadow: 0px 1px 3px 1px rgba(0, 0, 0, 0.15);\n",
              "      filter: drop-shadow(0px 1px 2px rgba(0, 0, 0, 0.3));\n",
              "      fill: #FFFFFF;\n",
              "    }\n",
              "  </style>\n",
              "\n",
              "      <script>\n",
              "        const buttonEl =\n",
              "          document.querySelector('#df-9df8788e-e4db-4a95-ae58-c268eb04d483 button.colab-df-convert');\n",
              "        buttonEl.style.display =\n",
              "          google.colab.kernel.accessAllowed ? 'block' : 'none';\n",
              "\n",
              "        async function convertToInteractive(key) {\n",
              "          const element = document.querySelector('#df-9df8788e-e4db-4a95-ae58-c268eb04d483');\n",
              "          const dataTable =\n",
              "            await google.colab.kernel.invokeFunction('convertToInteractive',\n",
              "                                                     [key], {});\n",
              "          if (!dataTable) return;\n",
              "\n",
              "          const docLinkHtml = 'Like what you see? Visit the ' +\n",
              "            '<a target=\"_blank\" href=https://colab.research.google.com/notebooks/data_table.ipynb>data table notebook</a>'\n",
              "            + ' to learn more about interactive tables.';\n",
              "          element.innerHTML = '';\n",
              "          dataTable['output_type'] = 'display_data';\n",
              "          await google.colab.output.renderOutput(dataTable, element);\n",
              "          const docLink = document.createElement('div');\n",
              "          docLink.innerHTML = docLinkHtml;\n",
              "          element.appendChild(docLink);\n",
              "        }\n",
              "      </script>\n",
              "    </div>\n",
              "  </div>\n",
              "  "
            ]
          },
          "metadata": {},
          "execution_count": 55
        }
      ]
    },
    {
      "cell_type": "markdown",
      "source": [
        "### Train-Test Split"
      ],
      "metadata": {
        "id": "B9-INVRgIZK6"
      }
    },
    {
      "cell_type": "code",
      "source": [
        "split_ratio = 0.9\n",
        "train_size = int(len(features_df) * split_ratio)\n",
        "print(train_size)"
      ],
      "metadata": {
        "colab": {
          "base_uri": "https://localhost:8080/"
        },
        "id": "pO6LuPPvIWtB",
        "outputId": "233c6db4-ff1b-42dd-daf0-b1f2238fd01c"
      },
      "execution_count": 56,
      "outputs": [
        {
          "output_type": "stream",
          "name": "stdout",
          "text": [
            "1295255\n"
          ]
        }
      ]
    },
    {
      "cell_type": "code",
      "source": [
        "train_df, test_df = features_df[:train_size], features_df[train_size+1:]\n",
        "train_df.shape, test_df.shape"
      ],
      "metadata": {
        "colab": {
          "base_uri": "https://localhost:8080/"
        },
        "id": "szvEWko1Hpbh",
        "outputId": "9cf5ee01-2ba3-4b60-ea52-f1c946abe9bc"
      },
      "execution_count": 57,
      "outputs": [
        {
          "output_type": "execute_result",
          "data": {
            "text/plain": [
              "((1295255, 9), (143917, 9))"
            ]
          },
          "metadata": {},
          "execution_count": 57
        }
      ]
    },
    {
      "cell_type": "code",
      "source": [
        "# Normalising the Data\n",
        "scaler = MinMaxScaler(feature_range=(-1, 1))\n",
        "scaler = scaler.fit(train_df)"
      ],
      "metadata": {
        "id": "gk1WxPSUJPie"
      },
      "execution_count": 58,
      "outputs": []
    },
    {
      "cell_type": "code",
      "source": [
        "train_df = pd.DataFrame(\n",
        "    scaler.transform(train_df),\n",
        "    index = train_df.index,\n",
        "    columns = train_df.columns\n",
        ")\n",
        "train_df.head()"
      ],
      "metadata": {
        "colab": {
          "base_uri": "https://localhost:8080/",
          "height": 270
        },
        "id": "6IWPot6TJl26",
        "outputId": "ceb0e9a1-cb5c-4f5a-bfa6-1f71cb0767ea"
      },
      "execution_count": 59,
      "outputs": [
        {
          "output_type": "execute_result",
          "data": {
            "text/plain": [
              "   day_of_week  day_of_month  week_of_year     month      open      high  \\\n",
              "0          1.0     -0.533333      0.346154  0.454545 -0.807237 -0.809233   \n",
              "1          1.0     -0.533333      0.346154  0.454545 -0.807237 -0.809233   \n",
              "2          1.0     -0.533333      0.346154  0.454545 -0.807237 -0.809233   \n",
              "3          1.0     -0.533333      0.346154  0.454545 -0.807237 -0.809233   \n",
              "4          1.0     -0.533333      0.346154  0.454545 -0.807237 -0.809233   \n",
              "\n",
              "        low  close_change     close  \n",
              "0 -0.804245       0.38329 -0.807237  \n",
              "1 -0.804245       0.38329 -0.807237  \n",
              "2 -0.804245       0.38329 -0.807237  \n",
              "3 -0.804245       0.38329 -0.807237  \n",
              "4 -0.804245       0.38329 -0.807237  "
            ],
            "text/html": [
              "\n",
              "  <div id=\"df-171b0600-cf88-44f1-8ddc-1719655c202f\">\n",
              "    <div class=\"colab-df-container\">\n",
              "      <div>\n",
              "<style scoped>\n",
              "    .dataframe tbody tr th:only-of-type {\n",
              "        vertical-align: middle;\n",
              "    }\n",
              "\n",
              "    .dataframe tbody tr th {\n",
              "        vertical-align: top;\n",
              "    }\n",
              "\n",
              "    .dataframe thead th {\n",
              "        text-align: right;\n",
              "    }\n",
              "</style>\n",
              "<table border=\"1\" class=\"dataframe\">\n",
              "  <thead>\n",
              "    <tr style=\"text-align: right;\">\n",
              "      <th></th>\n",
              "      <th>day_of_week</th>\n",
              "      <th>day_of_month</th>\n",
              "      <th>week_of_year</th>\n",
              "      <th>month</th>\n",
              "      <th>open</th>\n",
              "      <th>high</th>\n",
              "      <th>low</th>\n",
              "      <th>close_change</th>\n",
              "      <th>close</th>\n",
              "    </tr>\n",
              "  </thead>\n",
              "  <tbody>\n",
              "    <tr>\n",
              "      <th>0</th>\n",
              "      <td>1.0</td>\n",
              "      <td>-0.533333</td>\n",
              "      <td>0.346154</td>\n",
              "      <td>0.454545</td>\n",
              "      <td>-0.807237</td>\n",
              "      <td>-0.809233</td>\n",
              "      <td>-0.804245</td>\n",
              "      <td>0.38329</td>\n",
              "      <td>-0.807237</td>\n",
              "    </tr>\n",
              "    <tr>\n",
              "      <th>1</th>\n",
              "      <td>1.0</td>\n",
              "      <td>-0.533333</td>\n",
              "      <td>0.346154</td>\n",
              "      <td>0.454545</td>\n",
              "      <td>-0.807237</td>\n",
              "      <td>-0.809233</td>\n",
              "      <td>-0.804245</td>\n",
              "      <td>0.38329</td>\n",
              "      <td>-0.807237</td>\n",
              "    </tr>\n",
              "    <tr>\n",
              "      <th>2</th>\n",
              "      <td>1.0</td>\n",
              "      <td>-0.533333</td>\n",
              "      <td>0.346154</td>\n",
              "      <td>0.454545</td>\n",
              "      <td>-0.807237</td>\n",
              "      <td>-0.809233</td>\n",
              "      <td>-0.804245</td>\n",
              "      <td>0.38329</td>\n",
              "      <td>-0.807237</td>\n",
              "    </tr>\n",
              "    <tr>\n",
              "      <th>3</th>\n",
              "      <td>1.0</td>\n",
              "      <td>-0.533333</td>\n",
              "      <td>0.346154</td>\n",
              "      <td>0.454545</td>\n",
              "      <td>-0.807237</td>\n",
              "      <td>-0.809233</td>\n",
              "      <td>-0.804245</td>\n",
              "      <td>0.38329</td>\n",
              "      <td>-0.807237</td>\n",
              "    </tr>\n",
              "    <tr>\n",
              "      <th>4</th>\n",
              "      <td>1.0</td>\n",
              "      <td>-0.533333</td>\n",
              "      <td>0.346154</td>\n",
              "      <td>0.454545</td>\n",
              "      <td>-0.807237</td>\n",
              "      <td>-0.809233</td>\n",
              "      <td>-0.804245</td>\n",
              "      <td>0.38329</td>\n",
              "      <td>-0.807237</td>\n",
              "    </tr>\n",
              "  </tbody>\n",
              "</table>\n",
              "</div>\n",
              "      <button class=\"colab-df-convert\" onclick=\"convertToInteractive('df-171b0600-cf88-44f1-8ddc-1719655c202f')\"\n",
              "              title=\"Convert this dataframe to an interactive table.\"\n",
              "              style=\"display:none;\">\n",
              "        \n",
              "  <svg xmlns=\"http://www.w3.org/2000/svg\" height=\"24px\"viewBox=\"0 0 24 24\"\n",
              "       width=\"24px\">\n",
              "    <path d=\"M0 0h24v24H0V0z\" fill=\"none\"/>\n",
              "    <path d=\"M18.56 5.44l.94 2.06.94-2.06 2.06-.94-2.06-.94-.94-2.06-.94 2.06-2.06.94zm-11 1L8.5 8.5l.94-2.06 2.06-.94-2.06-.94L8.5 2.5l-.94 2.06-2.06.94zm10 10l.94 2.06.94-2.06 2.06-.94-2.06-.94-.94-2.06-.94 2.06-2.06.94z\"/><path d=\"M17.41 7.96l-1.37-1.37c-.4-.4-.92-.59-1.43-.59-.52 0-1.04.2-1.43.59L10.3 9.45l-7.72 7.72c-.78.78-.78 2.05 0 2.83L4 21.41c.39.39.9.59 1.41.59.51 0 1.02-.2 1.41-.59l7.78-7.78 2.81-2.81c.8-.78.8-2.07 0-2.86zM5.41 20L4 18.59l7.72-7.72 1.47 1.35L5.41 20z\"/>\n",
              "  </svg>\n",
              "      </button>\n",
              "      \n",
              "  <style>\n",
              "    .colab-df-container {\n",
              "      display:flex;\n",
              "      flex-wrap:wrap;\n",
              "      gap: 12px;\n",
              "    }\n",
              "\n",
              "    .colab-df-convert {\n",
              "      background-color: #E8F0FE;\n",
              "      border: none;\n",
              "      border-radius: 50%;\n",
              "      cursor: pointer;\n",
              "      display: none;\n",
              "      fill: #1967D2;\n",
              "      height: 32px;\n",
              "      padding: 0 0 0 0;\n",
              "      width: 32px;\n",
              "    }\n",
              "\n",
              "    .colab-df-convert:hover {\n",
              "      background-color: #E2EBFA;\n",
              "      box-shadow: 0px 1px 2px rgba(60, 64, 67, 0.3), 0px 1px 3px 1px rgba(60, 64, 67, 0.15);\n",
              "      fill: #174EA6;\n",
              "    }\n",
              "\n",
              "    [theme=dark] .colab-df-convert {\n",
              "      background-color: #3B4455;\n",
              "      fill: #D2E3FC;\n",
              "    }\n",
              "\n",
              "    [theme=dark] .colab-df-convert:hover {\n",
              "      background-color: #434B5C;\n",
              "      box-shadow: 0px 1px 3px 1px rgba(0, 0, 0, 0.15);\n",
              "      filter: drop-shadow(0px 1px 2px rgba(0, 0, 0, 0.3));\n",
              "      fill: #FFFFFF;\n",
              "    }\n",
              "  </style>\n",
              "\n",
              "      <script>\n",
              "        const buttonEl =\n",
              "          document.querySelector('#df-171b0600-cf88-44f1-8ddc-1719655c202f button.colab-df-convert');\n",
              "        buttonEl.style.display =\n",
              "          google.colab.kernel.accessAllowed ? 'block' : 'none';\n",
              "\n",
              "        async function convertToInteractive(key) {\n",
              "          const element = document.querySelector('#df-171b0600-cf88-44f1-8ddc-1719655c202f');\n",
              "          const dataTable =\n",
              "            await google.colab.kernel.invokeFunction('convertToInteractive',\n",
              "                                                     [key], {});\n",
              "          if (!dataTable) return;\n",
              "\n",
              "          const docLinkHtml = 'Like what you see? Visit the ' +\n",
              "            '<a target=\"_blank\" href=https://colab.research.google.com/notebooks/data_table.ipynb>data table notebook</a>'\n",
              "            + ' to learn more about interactive tables.';\n",
              "          element.innerHTML = '';\n",
              "          dataTable['output_type'] = 'display_data';\n",
              "          await google.colab.output.renderOutput(dataTable, element);\n",
              "          const docLink = document.createElement('div');\n",
              "          docLink.innerHTML = docLinkHtml;\n",
              "          element.appendChild(docLink);\n",
              "        }\n",
              "      </script>\n",
              "    </div>\n",
              "  </div>\n",
              "  "
            ]
          },
          "metadata": {},
          "execution_count": 59
        }
      ]
    },
    {
      "cell_type": "code",
      "source": [
        "test_df = pd.DataFrame(\n",
        "    scaler.transform(test_df),\n",
        "    index = test_df.index,\n",
        "    columns = test_df.columns\n",
        ")\n",
        "test_df.head()"
      ],
      "metadata": {
        "id": "5tLpYrYzNwwN",
        "outputId": "fd40e466-accd-4ea9-956c-7ea918873f73",
        "colab": {
          "base_uri": "https://localhost:8080/",
          "height": 270
        }
      },
      "execution_count": 62,
      "outputs": [
        {
          "output_type": "execute_result",
          "data": {
            "text/plain": [
              "         day_of_week  day_of_month  week_of_year     month      open  \\\n",
              "1295256          1.0      0.733333     -0.730769 -0.818182  0.040265   \n",
              "1295257          1.0      0.733333     -0.730769 -0.818182  0.040717   \n",
              "1295258          1.0      0.733333     -0.730769 -0.818182  0.043946   \n",
              "1295259          1.0      0.733333     -0.730769 -0.818182  0.042799   \n",
              "1295260          1.0      0.733333     -0.730769 -0.818182  0.040967   \n",
              "\n",
              "             high       low  close_change     close  \n",
              "1295256  0.040479  0.044923      0.387595  0.040717  \n",
              "1295257  0.044925  0.044679      0.414015  0.043946  \n",
              "1295258  0.043048  0.047134      0.372380  0.042799  \n",
              "1295259  0.041982  0.045363      0.365851  0.040966  \n",
              "1295260  0.041557  0.045480      0.394792  0.042175  "
            ],
            "text/html": [
              "\n",
              "  <div id=\"df-31c723a3-9079-402c-93de-165166b3446e\">\n",
              "    <div class=\"colab-df-container\">\n",
              "      <div>\n",
              "<style scoped>\n",
              "    .dataframe tbody tr th:only-of-type {\n",
              "        vertical-align: middle;\n",
              "    }\n",
              "\n",
              "    .dataframe tbody tr th {\n",
              "        vertical-align: top;\n",
              "    }\n",
              "\n",
              "    .dataframe thead th {\n",
              "        text-align: right;\n",
              "    }\n",
              "</style>\n",
              "<table border=\"1\" class=\"dataframe\">\n",
              "  <thead>\n",
              "    <tr style=\"text-align: right;\">\n",
              "      <th></th>\n",
              "      <th>day_of_week</th>\n",
              "      <th>day_of_month</th>\n",
              "      <th>week_of_year</th>\n",
              "      <th>month</th>\n",
              "      <th>open</th>\n",
              "      <th>high</th>\n",
              "      <th>low</th>\n",
              "      <th>close_change</th>\n",
              "      <th>close</th>\n",
              "    </tr>\n",
              "  </thead>\n",
              "  <tbody>\n",
              "    <tr>\n",
              "      <th>1295256</th>\n",
              "      <td>1.0</td>\n",
              "      <td>0.733333</td>\n",
              "      <td>-0.730769</td>\n",
              "      <td>-0.818182</td>\n",
              "      <td>0.040265</td>\n",
              "      <td>0.040479</td>\n",
              "      <td>0.044923</td>\n",
              "      <td>0.387595</td>\n",
              "      <td>0.040717</td>\n",
              "    </tr>\n",
              "    <tr>\n",
              "      <th>1295257</th>\n",
              "      <td>1.0</td>\n",
              "      <td>0.733333</td>\n",
              "      <td>-0.730769</td>\n",
              "      <td>-0.818182</td>\n",
              "      <td>0.040717</td>\n",
              "      <td>0.044925</td>\n",
              "      <td>0.044679</td>\n",
              "      <td>0.414015</td>\n",
              "      <td>0.043946</td>\n",
              "    </tr>\n",
              "    <tr>\n",
              "      <th>1295258</th>\n",
              "      <td>1.0</td>\n",
              "      <td>0.733333</td>\n",
              "      <td>-0.730769</td>\n",
              "      <td>-0.818182</td>\n",
              "      <td>0.043946</td>\n",
              "      <td>0.043048</td>\n",
              "      <td>0.047134</td>\n",
              "      <td>0.372380</td>\n",
              "      <td>0.042799</td>\n",
              "    </tr>\n",
              "    <tr>\n",
              "      <th>1295259</th>\n",
              "      <td>1.0</td>\n",
              "      <td>0.733333</td>\n",
              "      <td>-0.730769</td>\n",
              "      <td>-0.818182</td>\n",
              "      <td>0.042799</td>\n",
              "      <td>0.041982</td>\n",
              "      <td>0.045363</td>\n",
              "      <td>0.365851</td>\n",
              "      <td>0.040966</td>\n",
              "    </tr>\n",
              "    <tr>\n",
              "      <th>1295260</th>\n",
              "      <td>1.0</td>\n",
              "      <td>0.733333</td>\n",
              "      <td>-0.730769</td>\n",
              "      <td>-0.818182</td>\n",
              "      <td>0.040967</td>\n",
              "      <td>0.041557</td>\n",
              "      <td>0.045480</td>\n",
              "      <td>0.394792</td>\n",
              "      <td>0.042175</td>\n",
              "    </tr>\n",
              "  </tbody>\n",
              "</table>\n",
              "</div>\n",
              "      <button class=\"colab-df-convert\" onclick=\"convertToInteractive('df-31c723a3-9079-402c-93de-165166b3446e')\"\n",
              "              title=\"Convert this dataframe to an interactive table.\"\n",
              "              style=\"display:none;\">\n",
              "        \n",
              "  <svg xmlns=\"http://www.w3.org/2000/svg\" height=\"24px\"viewBox=\"0 0 24 24\"\n",
              "       width=\"24px\">\n",
              "    <path d=\"M0 0h24v24H0V0z\" fill=\"none\"/>\n",
              "    <path d=\"M18.56 5.44l.94 2.06.94-2.06 2.06-.94-2.06-.94-.94-2.06-.94 2.06-2.06.94zm-11 1L8.5 8.5l.94-2.06 2.06-.94-2.06-.94L8.5 2.5l-.94 2.06-2.06.94zm10 10l.94 2.06.94-2.06 2.06-.94-2.06-.94-.94-2.06-.94 2.06-2.06.94z\"/><path d=\"M17.41 7.96l-1.37-1.37c-.4-.4-.92-.59-1.43-.59-.52 0-1.04.2-1.43.59L10.3 9.45l-7.72 7.72c-.78.78-.78 2.05 0 2.83L4 21.41c.39.39.9.59 1.41.59.51 0 1.02-.2 1.41-.59l7.78-7.78 2.81-2.81c.8-.78.8-2.07 0-2.86zM5.41 20L4 18.59l7.72-7.72 1.47 1.35L5.41 20z\"/>\n",
              "  </svg>\n",
              "      </button>\n",
              "      \n",
              "  <style>\n",
              "    .colab-df-container {\n",
              "      display:flex;\n",
              "      flex-wrap:wrap;\n",
              "      gap: 12px;\n",
              "    }\n",
              "\n",
              "    .colab-df-convert {\n",
              "      background-color: #E8F0FE;\n",
              "      border: none;\n",
              "      border-radius: 50%;\n",
              "      cursor: pointer;\n",
              "      display: none;\n",
              "      fill: #1967D2;\n",
              "      height: 32px;\n",
              "      padding: 0 0 0 0;\n",
              "      width: 32px;\n",
              "    }\n",
              "\n",
              "    .colab-df-convert:hover {\n",
              "      background-color: #E2EBFA;\n",
              "      box-shadow: 0px 1px 2px rgba(60, 64, 67, 0.3), 0px 1px 3px 1px rgba(60, 64, 67, 0.15);\n",
              "      fill: #174EA6;\n",
              "    }\n",
              "\n",
              "    [theme=dark] .colab-df-convert {\n",
              "      background-color: #3B4455;\n",
              "      fill: #D2E3FC;\n",
              "    }\n",
              "\n",
              "    [theme=dark] .colab-df-convert:hover {\n",
              "      background-color: #434B5C;\n",
              "      box-shadow: 0px 1px 3px 1px rgba(0, 0, 0, 0.15);\n",
              "      filter: drop-shadow(0px 1px 2px rgba(0, 0, 0, 0.3));\n",
              "      fill: #FFFFFF;\n",
              "    }\n",
              "  </style>\n",
              "\n",
              "      <script>\n",
              "        const buttonEl =\n",
              "          document.querySelector('#df-31c723a3-9079-402c-93de-165166b3446e button.colab-df-convert');\n",
              "        buttonEl.style.display =\n",
              "          google.colab.kernel.accessAllowed ? 'block' : 'none';\n",
              "\n",
              "        async function convertToInteractive(key) {\n",
              "          const element = document.querySelector('#df-31c723a3-9079-402c-93de-165166b3446e');\n",
              "          const dataTable =\n",
              "            await google.colab.kernel.invokeFunction('convertToInteractive',\n",
              "                                                     [key], {});\n",
              "          if (!dataTable) return;\n",
              "\n",
              "          const docLinkHtml = 'Like what you see? Visit the ' +\n",
              "            '<a target=\"_blank\" href=https://colab.research.google.com/notebooks/data_table.ipynb>data table notebook</a>'\n",
              "            + ' to learn more about interactive tables.';\n",
              "          element.innerHTML = '';\n",
              "          dataTable['output_type'] = 'display_data';\n",
              "          await google.colab.output.renderOutput(dataTable, element);\n",
              "          const docLink = document.createElement('div');\n",
              "          docLink.innerHTML = docLinkHtml;\n",
              "          element.appendChild(docLink);\n",
              "        }\n",
              "      </script>\n",
              "    </div>\n",
              "  </div>\n",
              "  "
            ]
          },
          "metadata": {},
          "execution_count": 62
        }
      ]
    },
    {
      "cell_type": "markdown",
      "source": [
        "#### Cutting DataFrame in Multiple Sequences"
      ],
      "metadata": {
        "id": "vnwd9vXgKZui"
      }
    },
    {
      "cell_type": "code",
      "source": [
        "def create_sequences(input_data: pd.DataFrame, target_column, sequence_length=3):\n",
        "  sequences = []\n",
        "  data_size = len(input_data)\n",
        "\n",
        "  for i in tqdm(range(data_size - sequence_length)):\n",
        "    sequence = input_data[i:i+sequence_length]\n",
        "    label_position = i + sequence_length\n",
        "    label = input_data.iloc[label_position][target_column]\n",
        "\n",
        "    sequences.append((sequence, label))\n",
        "\n",
        "  return sequences"
      ],
      "metadata": {
        "id": "3YSp4cu2KZG4"
      },
      "execution_count": 63,
      "outputs": []
    },
    {
      "cell_type": "markdown",
      "source": [
        "#### Creating Training and Testing Sequences"
      ],
      "metadata": {
        "id": "Ntkc7ml2MZO3"
      }
    },
    {
      "cell_type": "code",
      "source": [
        "SEQUENCE_LENGTH = 120"
      ],
      "metadata": {
        "id": "JHzbuwJGNW0T"
      },
      "execution_count": 64,
      "outputs": []
    },
    {
      "cell_type": "code",
      "source": [
        "train_sequences = create_sequences(train_df, \"close\", sequence_length=SEQUENCE_LENGTH)\n",
        "test_sequences = create_sequences(test_df, \"close\", sequence_length=SEQUENCE_LENGTH)"
      ],
      "metadata": {
        "colab": {
          "base_uri": "https://localhost:8080/",
          "height": 49,
          "referenced_widgets": [
            "84fa14103c1640cab0022a2e81558266",
            "143355ed9f764cdba5971b1065bbcc26",
            "8b0d005fc8f049599a2a6e8cca122e47",
            "926d5bc282e44af8921217fadbcbafb6",
            "3ca81123dee546f8851c76118e0a848a",
            "4f609e9d2d824f4c91898de04e20dc59",
            "c806f71b153b4857bfba930ec4783c4d",
            "1b9effeacdf34d18bf3b48bfa6d2f127",
            "c07f83bb804e4996b7b7d1caf6eb42a7",
            "afbb4f57889d4111b506ee0e96007068",
            "14208fe9180644e79fc309567c7af1e4"
          ]
        },
        "id": "_4josB6JLwQJ",
        "outputId": "24e6e200-a155-4cc3-d940-489be1897053"
      },
      "execution_count": null,
      "outputs": [
        {
          "output_type": "display_data",
          "data": {
            "text/plain": [
              "  0%|          | 0/1295135 [00:00<?, ?it/s]"
            ],
            "application/vnd.jupyter.widget-view+json": {
              "version_major": 2,
              "version_minor": 0,
              "model_id": "84fa14103c1640cab0022a2e81558266"
            }
          },
          "metadata": {}
        }
      ]
    },
    {
      "cell_type": "code",
      "source": [
        "# Let's check first sequence label and data\n",
        "print(\"Label: \", train_sequences[0][1])\n",
        "print(\"\")\n",
        "print(\"Sequence: \",train_sequences[0][0])\n",
        "print(\"Sequence Shape: \",train_sequences[0][0].shape)"
      ],
      "metadata": {
        "id": "G6peMcOWNtYu"
      },
      "execution_count": null,
      "outputs": []
    },
    {
      "cell_type": "code",
      "source": [
        "len(train_sequences), len(test_sequences)"
      ],
      "metadata": {
        "id": "xzc23o_bNnUO"
      },
      "execution_count": null,
      "outputs": []
    },
    {
      "cell_type": "markdown",
      "source": [
        "## Creating PyTorch Datasets"
      ],
      "metadata": {
        "id": "qdxToMIhj7TQ"
      }
    },
    {
      "cell_type": "code",
      "source": [
        "class BTCDataset(Dataset):\n",
        "  def __init__(self, sequences):\n",
        "    self.sequences = sequences\n",
        "\n",
        "  def __len__(self):\n",
        "    return len(self.sequences)\n",
        "  \n",
        "  def __getitem__(self, idx):\n",
        "    sequence, label = self.sequences[idx]\n",
        "    return dict(\n",
        "        sequence = torch.Tensor(sequence.to_numpy()),\n",
        "        label = torch.tensor(label).float()\n",
        "    )"
      ],
      "metadata": {
        "id": "QLnED-QKO1a9"
      },
      "execution_count": null,
      "outputs": []
    },
    {
      "cell_type": "code",
      "source": [
        "class BTCPriceDataModule(pl.LightningDataModule):\n",
        "  def __init__(\n",
        "      self, train_sequences, test_sequences, batch_size = 8\n",
        "  ):\n",
        "    super().__init__()\n",
        "    self.train_sequences = train_sequences\n",
        "    self.test_sequences = test_sequences\n",
        "    self.batch_size = batch_size\n",
        "  \n",
        "  def setup(self, stage=None):\n",
        "    self.train_dataset = BTCDataset(self.train_sequences)\n",
        "    self.test_dataset = BTCDataset(self.test_sequences)\n",
        "  \n",
        "  def train_dataloader(self):\n",
        "    return DataLoader(\n",
        "        self.train_dataset,\n",
        "        batch_size = self.batch_size,\n",
        "        shuffle = False,\n",
        "        num_workers = 2\n",
        "    )\n",
        "\n",
        "  def val_dataloader(self):\n",
        "    return DataLoader(\n",
        "        self.test_dataset,\n",
        "        batch_size = 1,\n",
        "        shuffle = False,\n",
        "        num_workers = 1\n",
        "    )\n",
        "  def test_dataloader(self):\n",
        "    return DataLoader(\n",
        "        self.test_dataset,\n",
        "        batch_size = 1,\n",
        "        shuffle = False,\n",
        "        num_workers = 1\n",
        "    )"
      ],
      "metadata": {
        "id": "T0EhKlSQkzKS"
      },
      "execution_count": null,
      "outputs": []
    },
    {
      "cell_type": "markdown",
      "source": [
        "### Model Parameters"
      ],
      "metadata": {
        "id": "GB2-Uz6wmcQU"
      }
    },
    {
      "cell_type": "code",
      "source": [
        "N_EPOCHS = 8\n",
        "BATCH_SIZE = 64"
      ],
      "metadata": {
        "id": "A9-8GF_vmNhX"
      },
      "execution_count": null,
      "outputs": []
    },
    {
      "cell_type": "code",
      "source": [
        "data_module = BTCPriceDataModule(train_sequences, test_sequences, batch_size = BATCH_SIZE)\n",
        "data_module.setup()"
      ],
      "metadata": {
        "id": "ihIgOpW3mlJi"
      },
      "execution_count": null,
      "outputs": []
    },
    {
      "cell_type": "code",
      "source": [
        "train_dataset = BTCDataset(train_sequences)"
      ],
      "metadata": {
        "id": "tbjNHEklmzJI"
      },
      "execution_count": null,
      "outputs": []
    },
    {
      "cell_type": "code",
      "source": [
        "# Testing our dataloader\n",
        "a = iter(train_dataset)\n",
        "b = next(a)\n",
        "print(\"Sequence Shape: \", b[\"sequence\"].shape)\n",
        "print(\"Label: {} and Label Shape: {}\".format(b[\"label\"], b[\"label\"].shape) )"
      ],
      "metadata": {
        "id": "8fG1-Ybcm_tO"
      },
      "execution_count": null,
      "outputs": []
    },
    {
      "cell_type": "markdown",
      "source": [
        "## Model"
      ],
      "metadata": {
        "id": "p1Pu-nPAojMn"
      }
    },
    {
      "cell_type": "code",
      "source": [
        "class PricePredictionModel(nn.Module):\n",
        "  def __init__(self, n_features, n_hidden=256, n_layers=2):\n",
        "    super().__init__()\n",
        "\n",
        "    self.n_hidden = n_hidden\n",
        "\n",
        "    self.lstm = nn.LSTM(\n",
        "        input_size = n_features,\n",
        "        hidden_size = n_hidden,\n",
        "        batch_first = True,\n",
        "        num_layers = n_layers, # Stack LSTMs\n",
        "        dropout = 0.2\n",
        "    )\n",
        "\n",
        "    self.regressor = nn.Linear(n_hidden, 1)\n",
        "\n",
        "  def forward(self, x):\n",
        "    self.lstm.flatten_parameters()  # For distrubuted training\n",
        "\n",
        "    _, (hidden, _) = self.lstm(x)\n",
        "    # We want the output from the last layer to go into the final\n",
        "    # regressor linear layer\n",
        "    out = hidden[-1] \n",
        "\n",
        "    return self.regressor(out)"
      ],
      "metadata": {
        "id": "UloKmcBNnIsE"
      },
      "execution_count": null,
      "outputs": []
    },
    {
      "cell_type": "code",
      "source": [
        "class BTCPricePredictor(pl.LightningModule):\n",
        "\n",
        "  def __init__(self, n_features: int):\n",
        "    super().__init__()\n",
        "    self.model = PricePredictionModel(n_features)\n",
        "    self.criterion = nn.MSELoss()\n",
        "\n",
        "  def forward(self, x, labels=None):\n",
        "    output = self.model(x)\n",
        "    \n",
        "    loss = 0\n",
        "\n",
        "    if labels is not None:\n",
        "      loss = self.criterion(output, labels.unsqueeze(dim=1))\n",
        "    \n",
        "    return loss, output\n",
        "\n",
        "  def training_step(self, batch, batch_idx):\n",
        "    sequences = batch[\"sequence\"]\n",
        "    labels = batch[\"label\"]\n",
        "\n",
        "    loss, output = self.forward(sequences, labels)\n",
        "\n",
        "    self.log(\"train_loss\", loss, prog_bar=True, logger=True)\n",
        "    return loss\n",
        "\n",
        "  def validation_step(self, batch, batch_idx):\n",
        "    sequences = batch[\"sequence\"]\n",
        "    labels = batch[\"label\"]\n",
        "\n",
        "    loss, output = self.forward(sequences, labels)\n",
        "\n",
        "    self.log(\"val_loss\", loss, prog_bar=True, logger=True)\n",
        "    return loss\n",
        "  \n",
        "  def test_step(self, batch, batch_idx):\n",
        "    sequences = batch[\"sequence\"]\n",
        "    labels = batch[\"label\"]\n",
        "\n",
        "    loss, output = self.forward(sequences, labels)\n",
        "\n",
        "    self.log(\"test_loss\", loss, prog_bar=True, logger=True)\n",
        "    return loss\n",
        "\n",
        "  def configure_optimizers(self):\n",
        "    return optim.Adam(self.model.parameters(), lr=0.001)"
      ],
      "metadata": {
        "id": "U4_-o0eHqnQk"
      },
      "execution_count": null,
      "outputs": []
    },
    {
      "cell_type": "code",
      "source": [
        "n_features = b[\"sequence\"].shape[1]\n",
        "\n",
        "model = BTCPricePredictor(n_features = n_features)"
      ],
      "metadata": {
        "id": "ATqGJOdiuScV"
      },
      "execution_count": null,
      "outputs": []
    },
    {
      "cell_type": "code",
      "source": [
        "for item in data_module.train_dataloader():\n",
        "  print(item[\"sequence\"].shape)\n",
        "  print(item[\"label\"].shape)\n",
        "  break"
      ],
      "metadata": {
        "id": "NgaGk2jJupXm"
      },
      "execution_count": null,
      "outputs": []
    },
    {
      "cell_type": "code",
      "source": [
        "# Starting tensorboard\n",
        "%load_ext tensorboard\n",
        "%tensorboard --logdir ./lightning_logs"
      ],
      "metadata": {
        "id": "dBHskt-ewnN0"
      },
      "execution_count": null,
      "outputs": []
    },
    {
      "cell_type": "code",
      "source": [
        "checkpoint_callback = ModelCheckpoint(\n",
        "    dirpath=\"checkpoints\",\n",
        "    filename=\"best-checkpoint\",\n",
        "    save_top_k = 1,\n",
        "    verbose = True,\n",
        "    monitor = \"val_loss\",\n",
        "    mode = \"min\"\n",
        ")\n",
        "\n",
        "logger = TensorBoardLogger(\"lightning_logs\", name = \"btc-price\")\n",
        "\n",
        "early_stopping_callback = EarlyStopping(monitor = \"val_loss\", patience = 2)"
      ],
      "metadata": {
        "id": "jQBs9UW2xR2S"
      },
      "execution_count": null,
      "outputs": []
    },
    {
      "cell_type": "code",
      "source": [
        "trainer = pl.Trainer(\n",
        "    logger = logger,\n",
        "    checkpoint_callback = checkpoint_callback,\n",
        "    callbacks = [early_stopping_callback],\n",
        "    max_epochs = N_EPOCHS,\n",
        "    gpus = 1,\n",
        "    progress_bar_refresh_rate = 30\n",
        ")"
      ],
      "metadata": {
        "id": "tosuRziEx8Wh"
      },
      "execution_count": null,
      "outputs": []
    },
    {
      "cell_type": "code",
      "source": [
        "trainer.fit(model, data_module)"
      ],
      "metadata": {
        "id": "Fn4pJcQ8yPe1"
      },
      "execution_count": null,
      "outputs": []
    },
    {
      "cell_type": "markdown",
      "source": [
        "### Testing the Trained Model"
      ],
      "metadata": {
        "id": "1lE2j61F8Asc"
      }
    },
    {
      "cell_type": "code",
      "source": [
        "checkpoint_path = \"\"\n",
        "\n",
        "trained_model = BTCPricePredictor.load_from_checkpoint(\n",
        "    checkpoint_path,\n",
        "    n_features = n_features   # 9 in this case\n",
        ")"
      ],
      "metadata": {
        "id": "Lo-GWxdt8cfL",
        "outputId": "cd9851bf-a065-4b87-b651-63d8fa6f6af8",
        "colab": {
          "base_uri": "https://localhost:8080/",
          "height": 380
        }
      },
      "execution_count": 32,
      "outputs": [
        {
          "output_type": "error",
          "ename": "FileNotFoundError",
          "evalue": "ignored",
          "traceback": [
            "\u001b[0;31m---------------------------------------------------------------------------\u001b[0m",
            "\u001b[0;31mFileNotFoundError\u001b[0m                         Traceback (most recent call last)",
            "\u001b[0;32m<ipython-input-32-2b49fa196b79>\u001b[0m in \u001b[0;36m<module>\u001b[0;34m()\u001b[0m\n\u001b[1;32m      3\u001b[0m trained_model = BTCPricePredictor.load_from_checkpoint(\n\u001b[1;32m      4\u001b[0m     \u001b[0mcheckpoint_path\u001b[0m\u001b[0;34m,\u001b[0m\u001b[0;34m\u001b[0m\u001b[0;34m\u001b[0m\u001b[0m\n\u001b[0;32m----> 5\u001b[0;31m     \u001b[0mn_features\u001b[0m \u001b[0;34m=\u001b[0m \u001b[0mn_features\u001b[0m   \u001b[0;31m# 9 in this case\u001b[0m\u001b[0;34m\u001b[0m\u001b[0;34m\u001b[0m\u001b[0m\n\u001b[0m\u001b[1;32m      6\u001b[0m )\n",
            "\u001b[0;32m/usr/local/lib/python3.7/dist-packages/pytorch_lightning/core/saving.py\u001b[0m in \u001b[0;36mload_from_checkpoint\u001b[0;34m(cls, checkpoint_path, map_location, hparams_file, strict, **kwargs)\u001b[0m\n\u001b[1;32m    137\u001b[0m                 \u001b[0mcheckpoint\u001b[0m \u001b[0;34m=\u001b[0m \u001b[0mpl_load\u001b[0m\u001b[0;34m(\u001b[0m\u001b[0mcheckpoint_path\u001b[0m\u001b[0;34m,\u001b[0m \u001b[0mmap_location\u001b[0m\u001b[0;34m=\u001b[0m\u001b[0mmap_location\u001b[0m\u001b[0;34m)\u001b[0m\u001b[0;34m\u001b[0m\u001b[0;34m\u001b[0m\u001b[0m\n\u001b[1;32m    138\u001b[0m             \u001b[0;32melse\u001b[0m\u001b[0;34m:\u001b[0m\u001b[0;34m\u001b[0m\u001b[0;34m\u001b[0m\u001b[0m\n\u001b[0;32m--> 139\u001b[0;31m                 \u001b[0mcheckpoint\u001b[0m \u001b[0;34m=\u001b[0m \u001b[0mpl_load\u001b[0m\u001b[0;34m(\u001b[0m\u001b[0mcheckpoint_path\u001b[0m\u001b[0;34m,\u001b[0m \u001b[0mmap_location\u001b[0m\u001b[0;34m=\u001b[0m\u001b[0;32mlambda\u001b[0m \u001b[0mstorage\u001b[0m\u001b[0;34m,\u001b[0m \u001b[0mloc\u001b[0m\u001b[0;34m:\u001b[0m \u001b[0mstorage\u001b[0m\u001b[0;34m)\u001b[0m\u001b[0;34m\u001b[0m\u001b[0;34m\u001b[0m\u001b[0m\n\u001b[0m\u001b[1;32m    140\u001b[0m \u001b[0;34m\u001b[0m\u001b[0m\n\u001b[1;32m    141\u001b[0m         \u001b[0;32mif\u001b[0m \u001b[0mhparams_file\u001b[0m \u001b[0;32mis\u001b[0m \u001b[0;32mnot\u001b[0m \u001b[0;32mNone\u001b[0m\u001b[0;34m:\u001b[0m\u001b[0;34m\u001b[0m\u001b[0;34m\u001b[0m\u001b[0m\n",
            "\u001b[0;32m/usr/local/lib/python3.7/dist-packages/pytorch_lightning/utilities/cloud_io.py\u001b[0m in \u001b[0;36mload\u001b[0;34m(path_or_url, map_location)\u001b[0m\n\u001b[1;32m     44\u001b[0m         \u001b[0;32mreturn\u001b[0m \u001b[0mtorch\u001b[0m\u001b[0;34m.\u001b[0m\u001b[0mhub\u001b[0m\u001b[0;34m.\u001b[0m\u001b[0mload_state_dict_from_url\u001b[0m\u001b[0;34m(\u001b[0m\u001b[0mstr\u001b[0m\u001b[0;34m(\u001b[0m\u001b[0mpath_or_url\u001b[0m\u001b[0;34m)\u001b[0m\u001b[0;34m,\u001b[0m \u001b[0mmap_location\u001b[0m\u001b[0;34m=\u001b[0m\u001b[0mmap_location\u001b[0m\u001b[0;34m)\u001b[0m\u001b[0;34m\u001b[0m\u001b[0;34m\u001b[0m\u001b[0m\n\u001b[1;32m     45\u001b[0m     \u001b[0mfs\u001b[0m \u001b[0;34m=\u001b[0m \u001b[0mget_filesystem\u001b[0m\u001b[0;34m(\u001b[0m\u001b[0mpath_or_url\u001b[0m\u001b[0;34m)\u001b[0m\u001b[0;34m\u001b[0m\u001b[0;34m\u001b[0m\u001b[0m\n\u001b[0;32m---> 46\u001b[0;31m     \u001b[0;32mwith\u001b[0m \u001b[0mfs\u001b[0m\u001b[0;34m.\u001b[0m\u001b[0mopen\u001b[0m\u001b[0;34m(\u001b[0m\u001b[0mpath_or_url\u001b[0m\u001b[0;34m,\u001b[0m \u001b[0;34m\"rb\"\u001b[0m\u001b[0;34m)\u001b[0m \u001b[0;32mas\u001b[0m \u001b[0mf\u001b[0m\u001b[0;34m:\u001b[0m\u001b[0;34m\u001b[0m\u001b[0;34m\u001b[0m\u001b[0m\n\u001b[0m\u001b[1;32m     47\u001b[0m         \u001b[0;32mreturn\u001b[0m \u001b[0mtorch\u001b[0m\u001b[0;34m.\u001b[0m\u001b[0mload\u001b[0m\u001b[0;34m(\u001b[0m\u001b[0mf\u001b[0m\u001b[0;34m,\u001b[0m \u001b[0mmap_location\u001b[0m\u001b[0;34m=\u001b[0m\u001b[0mmap_location\u001b[0m\u001b[0;34m)\u001b[0m\u001b[0;34m\u001b[0m\u001b[0;34m\u001b[0m\u001b[0m\n\u001b[1;32m     48\u001b[0m \u001b[0;34m\u001b[0m\u001b[0m\n",
            "\u001b[0;32m/usr/local/lib/python3.7/dist-packages/fsspec/spec.py\u001b[0m in \u001b[0;36mopen\u001b[0;34m(self, path, mode, block_size, cache_options, compression, **kwargs)\u001b[0m\n\u001b[1;32m   1041\u001b[0m                 \u001b[0mautocommit\u001b[0m\u001b[0;34m=\u001b[0m\u001b[0mac\u001b[0m\u001b[0;34m,\u001b[0m\u001b[0;34m\u001b[0m\u001b[0;34m\u001b[0m\u001b[0m\n\u001b[1;32m   1042\u001b[0m                 \u001b[0mcache_options\u001b[0m\u001b[0;34m=\u001b[0m\u001b[0mcache_options\u001b[0m\u001b[0;34m,\u001b[0m\u001b[0;34m\u001b[0m\u001b[0;34m\u001b[0m\u001b[0m\n\u001b[0;32m-> 1043\u001b[0;31m                 \u001b[0;34m**\u001b[0m\u001b[0mkwargs\u001b[0m\u001b[0;34m,\u001b[0m\u001b[0;34m\u001b[0m\u001b[0;34m\u001b[0m\u001b[0m\n\u001b[0m\u001b[1;32m   1044\u001b[0m             )\n\u001b[1;32m   1045\u001b[0m             \u001b[0;32mif\u001b[0m \u001b[0mcompression\u001b[0m \u001b[0;32mis\u001b[0m \u001b[0;32mnot\u001b[0m \u001b[0;32mNone\u001b[0m\u001b[0;34m:\u001b[0m\u001b[0;34m\u001b[0m\u001b[0;34m\u001b[0m\u001b[0m\n",
            "\u001b[0;32m/usr/local/lib/python3.7/dist-packages/fsspec/implementations/local.py\u001b[0m in \u001b[0;36m_open\u001b[0;34m(self, path, mode, block_size, **kwargs)\u001b[0m\n\u001b[1;32m    157\u001b[0m         \u001b[0;32mif\u001b[0m \u001b[0mself\u001b[0m\u001b[0;34m.\u001b[0m\u001b[0mauto_mkdir\u001b[0m \u001b[0;32mand\u001b[0m \u001b[0;34m\"w\"\u001b[0m \u001b[0;32min\u001b[0m \u001b[0mmode\u001b[0m\u001b[0;34m:\u001b[0m\u001b[0;34m\u001b[0m\u001b[0;34m\u001b[0m\u001b[0m\n\u001b[1;32m    158\u001b[0m             \u001b[0mself\u001b[0m\u001b[0;34m.\u001b[0m\u001b[0mmakedirs\u001b[0m\u001b[0;34m(\u001b[0m\u001b[0mself\u001b[0m\u001b[0;34m.\u001b[0m\u001b[0m_parent\u001b[0m\u001b[0;34m(\u001b[0m\u001b[0mpath\u001b[0m\u001b[0;34m)\u001b[0m\u001b[0;34m,\u001b[0m \u001b[0mexist_ok\u001b[0m\u001b[0;34m=\u001b[0m\u001b[0;32mTrue\u001b[0m\u001b[0;34m)\u001b[0m\u001b[0;34m\u001b[0m\u001b[0;34m\u001b[0m\u001b[0m\n\u001b[0;32m--> 159\u001b[0;31m         \u001b[0;32mreturn\u001b[0m \u001b[0mLocalFileOpener\u001b[0m\u001b[0;34m(\u001b[0m\u001b[0mpath\u001b[0m\u001b[0;34m,\u001b[0m \u001b[0mmode\u001b[0m\u001b[0;34m,\u001b[0m \u001b[0mfs\u001b[0m\u001b[0;34m=\u001b[0m\u001b[0mself\u001b[0m\u001b[0;34m,\u001b[0m \u001b[0;34m**\u001b[0m\u001b[0mkwargs\u001b[0m\u001b[0;34m)\u001b[0m\u001b[0;34m\u001b[0m\u001b[0;34m\u001b[0m\u001b[0m\n\u001b[0m\u001b[1;32m    160\u001b[0m \u001b[0;34m\u001b[0m\u001b[0m\n\u001b[1;32m    161\u001b[0m     \u001b[0;32mdef\u001b[0m \u001b[0mtouch\u001b[0m\u001b[0;34m(\u001b[0m\u001b[0mself\u001b[0m\u001b[0;34m,\u001b[0m \u001b[0mpath\u001b[0m\u001b[0;34m,\u001b[0m \u001b[0;34m**\u001b[0m\u001b[0mkwargs\u001b[0m\u001b[0;34m)\u001b[0m\u001b[0;34m:\u001b[0m\u001b[0;34m\u001b[0m\u001b[0;34m\u001b[0m\u001b[0m\n",
            "\u001b[0;32m/usr/local/lib/python3.7/dist-packages/fsspec/implementations/local.py\u001b[0m in \u001b[0;36m__init__\u001b[0;34m(self, path, mode, autocommit, fs, compression, **kwargs)\u001b[0m\n\u001b[1;32m    252\u001b[0m         \u001b[0mself\u001b[0m\u001b[0;34m.\u001b[0m\u001b[0mcompression\u001b[0m \u001b[0;34m=\u001b[0m \u001b[0mget_compression\u001b[0m\u001b[0;34m(\u001b[0m\u001b[0mpath\u001b[0m\u001b[0;34m,\u001b[0m \u001b[0mcompression\u001b[0m\u001b[0;34m)\u001b[0m\u001b[0;34m\u001b[0m\u001b[0;34m\u001b[0m\u001b[0m\n\u001b[1;32m    253\u001b[0m         \u001b[0mself\u001b[0m\u001b[0;34m.\u001b[0m\u001b[0mblocksize\u001b[0m \u001b[0;34m=\u001b[0m \u001b[0mio\u001b[0m\u001b[0;34m.\u001b[0m\u001b[0mDEFAULT_BUFFER_SIZE\u001b[0m\u001b[0;34m\u001b[0m\u001b[0;34m\u001b[0m\u001b[0m\n\u001b[0;32m--> 254\u001b[0;31m         \u001b[0mself\u001b[0m\u001b[0;34m.\u001b[0m\u001b[0m_open\u001b[0m\u001b[0;34m(\u001b[0m\u001b[0;34m)\u001b[0m\u001b[0;34m\u001b[0m\u001b[0;34m\u001b[0m\u001b[0m\n\u001b[0m\u001b[1;32m    255\u001b[0m \u001b[0;34m\u001b[0m\u001b[0m\n\u001b[1;32m    256\u001b[0m     \u001b[0;32mdef\u001b[0m \u001b[0m_open\u001b[0m\u001b[0;34m(\u001b[0m\u001b[0mself\u001b[0m\u001b[0;34m)\u001b[0m\u001b[0;34m:\u001b[0m\u001b[0;34m\u001b[0m\u001b[0;34m\u001b[0m\u001b[0m\n",
            "\u001b[0;32m/usr/local/lib/python3.7/dist-packages/fsspec/implementations/local.py\u001b[0m in \u001b[0;36m_open\u001b[0;34m(self)\u001b[0m\n\u001b[1;32m    257\u001b[0m         \u001b[0;32mif\u001b[0m \u001b[0mself\u001b[0m\u001b[0;34m.\u001b[0m\u001b[0mf\u001b[0m \u001b[0;32mis\u001b[0m \u001b[0;32mNone\u001b[0m \u001b[0;32mor\u001b[0m \u001b[0mself\u001b[0m\u001b[0;34m.\u001b[0m\u001b[0mf\u001b[0m\u001b[0;34m.\u001b[0m\u001b[0mclosed\u001b[0m\u001b[0;34m:\u001b[0m\u001b[0;34m\u001b[0m\u001b[0;34m\u001b[0m\u001b[0m\n\u001b[1;32m    258\u001b[0m             \u001b[0;32mif\u001b[0m \u001b[0mself\u001b[0m\u001b[0;34m.\u001b[0m\u001b[0mautocommit\u001b[0m \u001b[0;32mor\u001b[0m \u001b[0;34m\"w\"\u001b[0m \u001b[0;32mnot\u001b[0m \u001b[0;32min\u001b[0m \u001b[0mself\u001b[0m\u001b[0;34m.\u001b[0m\u001b[0mmode\u001b[0m\u001b[0;34m:\u001b[0m\u001b[0;34m\u001b[0m\u001b[0;34m\u001b[0m\u001b[0m\n\u001b[0;32m--> 259\u001b[0;31m                 \u001b[0mself\u001b[0m\u001b[0;34m.\u001b[0m\u001b[0mf\u001b[0m \u001b[0;34m=\u001b[0m \u001b[0mopen\u001b[0m\u001b[0;34m(\u001b[0m\u001b[0mself\u001b[0m\u001b[0;34m.\u001b[0m\u001b[0mpath\u001b[0m\u001b[0;34m,\u001b[0m \u001b[0mmode\u001b[0m\u001b[0;34m=\u001b[0m\u001b[0mself\u001b[0m\u001b[0;34m.\u001b[0m\u001b[0mmode\u001b[0m\u001b[0;34m)\u001b[0m\u001b[0;34m\u001b[0m\u001b[0;34m\u001b[0m\u001b[0m\n\u001b[0m\u001b[1;32m    260\u001b[0m                 \u001b[0;32mif\u001b[0m \u001b[0mself\u001b[0m\u001b[0;34m.\u001b[0m\u001b[0mcompression\u001b[0m\u001b[0;34m:\u001b[0m\u001b[0;34m\u001b[0m\u001b[0;34m\u001b[0m\u001b[0m\n\u001b[1;32m    261\u001b[0m                     \u001b[0mcompress\u001b[0m \u001b[0;34m=\u001b[0m \u001b[0mcompr\u001b[0m\u001b[0;34m[\u001b[0m\u001b[0mself\u001b[0m\u001b[0;34m.\u001b[0m\u001b[0mcompression\u001b[0m\u001b[0;34m]\u001b[0m\u001b[0;34m\u001b[0m\u001b[0;34m\u001b[0m\u001b[0m\n",
            "\u001b[0;31mFileNotFoundError\u001b[0m: [Errno 2] No such file or directory: '/content/lightning_logs/btc-price/version_0/checkpoints/epoch=2-step=60711.ckpt'"
          ]
        }
      ]
    },
    {
      "cell_type": "code",
      "source": [
        "# Freezing the model for faster predictions\n",
        "trained_model.freeze()"
      ],
      "metadata": {
        "id": "SPDWnrIQDX0C"
      },
      "execution_count": null,
      "outputs": []
    },
    {
      "cell_type": "code",
      "source": [
        "test_dataset = BTCDataset(test_sequences)\n",
        "\n",
        "predictions = []\n",
        "labels = []\n",
        "\n",
        "for item in tqdm(test_dataset):\n",
        "  sequence = item[\"sequence\"]\n",
        "  label = item[\"label\"]\n",
        "\n",
        "  _, output = trained_model(sequence)\n",
        "  predictions.append(output.item())\n",
        "  labels.append(label.item())"
      ],
      "metadata": {
        "id": "U1MQehVL8AGm"
      },
      "execution_count": null,
      "outputs": []
    },
    {
      "cell_type": "code",
      "source": [
        "len(predictions), len(test_df)"
      ],
      "metadata": {
        "id": "VA_u6Dt1yWys"
      },
      "execution_count": null,
      "outputs": []
    },
    {
      "cell_type": "code",
      "source": [
        "len(test_df) - SEQUENCE_LENGTH"
      ],
      "metadata": {
        "id": "J3haeJTt9BjD"
      },
      "execution_count": null,
      "outputs": []
    },
    {
      "cell_type": "markdown",
      "source": [
        "### The values are normalised using MinMaxScaler. We have to do Inverse Scaling Now"
      ],
      "metadata": {
        "id": "MgHrpsYz_cQ8"
      }
    },
    {
      "cell_type": "code",
      "source": [
        "# The values are normalised using MinMaxScaler\n",
        "test_df.head()"
      ],
      "metadata": {
        "id": "yuva-c5U-50f"
      },
      "execution_count": null,
      "outputs": []
    },
    {
      "cell_type": "code",
      "source": [
        "# Doing the inverse scaling now\n",
        "print(scaler.min_)\n",
        "print(scaler.scale_)"
      ],
      "metadata": {
        "id": "unfT43rp_J8c"
      },
      "execution_count": null,
      "outputs": []
    },
    {
      "cell_type": "code",
      "source": [
        "descaler = MinMaxScaler\n",
        "descaler.min_, descaler.scale_ = scaler.min_[-1], scaler.scale_[-1]"
      ],
      "metadata": {
        "id": "h9RZksxX_Zwp"
      },
      "execution_count": null,
      "outputs": []
    },
    {
      "cell_type": "code",
      "source": [
        "def descale(descaler, values):\n",
        "  # Scaler works only with 2D data\n",
        "  values_2d = np.array(values)[:, np.newaxis]\n",
        "  return descaler.inverse_transform(values_2d).flatten()"
      ],
      "metadata": {
        "id": "O3x17h1CAHYj"
      },
      "execution_count": null,
      "outputs": []
    },
    {
      "cell_type": "code",
      "source": [
        "predictions_descaled = descale(descaler, predictions)\n",
        "labels_descaled = descaler(descaler, labels)"
      ],
      "metadata": {
        "id": "cPky4pOYAg3U"
      },
      "execution_count": null,
      "outputs": []
    },
    {
      "cell_type": "code",
      "source": [
        "print(predictions_descaled[:3])\n",
        "print(labels_descaled[:3])"
      ],
      "metadata": {
        "id": "0DxjPkNNAs2q"
      },
      "execution_count": null,
      "outputs": []
    },
    {
      "cell_type": "markdown",
      "source": [
        "### Plotting Prediction vs Ground Truth"
      ],
      "metadata": {
        "id": "ug_8oQZvA1XM"
      }
    },
    {
      "cell_type": "code",
      "source": [
        "test_data = features_df[train_size+1:]\n",
        "len(test_data), len(test_df)"
      ],
      "metadata": {
        "id": "my5Y92zlA4v5"
      },
      "execution_count": null,
      "outputs": []
    },
    {
      "cell_type": "code",
      "source": [
        "test_sequences_data = test_data.iloc[SEQUENCE_LENGTH:]\n",
        "len(test_sequences_data), len(test_sequences)"
      ],
      "metadata": {
        "id": "-Of1fXSCHT7V"
      },
      "execution_count": null,
      "outputs": []
    },
    {
      "cell_type": "code",
      "source": [
        "test_sequences_data.head()"
      ],
      "metadata": {
        "id": "t954MiGoIQh5"
      },
      "execution_count": null,
      "outputs": []
    },
    {
      "cell_type": "code",
      "source": [
        "dates = matplotlib.dates.date2num(test_sequences_data.date.tolist())\n",
        "plt.plot_date(dates, predictions_descaled, \"-\", label= \"Predicted\", color = \"g\")\n",
        "plt.plot_date(dates, labels_descaled, \"--\", label = \"Real\", color = \"b\")\n",
        "plt.xticks(rotation =45)\n",
        "plt.legend()"
      ],
      "metadata": {
        "id": "uXk-N_XWIV69"
      },
      "execution_count": null,
      "outputs": []
    }
  ]
}