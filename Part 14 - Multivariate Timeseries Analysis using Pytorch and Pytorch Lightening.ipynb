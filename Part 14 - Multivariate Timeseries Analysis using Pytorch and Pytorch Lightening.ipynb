{
  "nbformat": 4,
  "nbformat_minor": 0,
  "metadata": {
    "colab": {
      "name": "Untitled0.ipynb",
      "provenance": [],
      "authorship_tag": "ABX9TyPLEiupwZqC9g1weeni1V35",
      "include_colab_link": true
    },
    "kernelspec": {
      "name": "python3",
      "display_name": "Python 3"
    },
    "language_info": {
      "name": "python"
    },
    "gpuClass": "standard",
    "widgets": {
      "application/vnd.jupyter.widget-state+json": {
        "c4ecc61071994d38bad18ea48fe0e4f0": {
          "model_module": "@jupyter-widgets/controls",
          "model_name": "HBoxModel",
          "model_module_version": "1.5.0",
          "state": {
            "_dom_classes": [],
            "_model_module": "@jupyter-widgets/controls",
            "_model_module_version": "1.5.0",
            "_model_name": "HBoxModel",
            "_view_count": null,
            "_view_module": "@jupyter-widgets/controls",
            "_view_module_version": "1.5.0",
            "_view_name": "HBoxView",
            "box_style": "",
            "children": [
              "IPY_MODEL_6afd0cf499714137bd8018e331d74517",
              "IPY_MODEL_35157febd4284e2694feb4819cceb9d6",
              "IPY_MODEL_adc8151c5f6c458bb779c1c9332b9579"
            ],
            "layout": "IPY_MODEL_78f5980c1d7843e49ff0072b67a0a037"
          }
        },
        "6afd0cf499714137bd8018e331d74517": {
          "model_module": "@jupyter-widgets/controls",
          "model_name": "HTMLModel",
          "model_module_version": "1.5.0",
          "state": {
            "_dom_classes": [],
            "_model_module": "@jupyter-widgets/controls",
            "_model_module_version": "1.5.0",
            "_model_name": "HTMLModel",
            "_view_count": null,
            "_view_module": "@jupyter-widgets/controls",
            "_view_module_version": "1.5.0",
            "_view_name": "HTMLView",
            "description": "",
            "description_tooltip": null,
            "layout": "IPY_MODEL_3bcdd377940d45598b9bbcb4ac3b718a",
            "placeholder": "​",
            "style": "IPY_MODEL_bebaba509908449c817ee0e5c0e5c4e5",
            "value": "100%"
          }
        },
        "35157febd4284e2694feb4819cceb9d6": {
          "model_module": "@jupyter-widgets/controls",
          "model_name": "FloatProgressModel",
          "model_module_version": "1.5.0",
          "state": {
            "_dom_classes": [],
            "_model_module": "@jupyter-widgets/controls",
            "_model_module_version": "1.5.0",
            "_model_name": "FloatProgressModel",
            "_view_count": null,
            "_view_module": "@jupyter-widgets/controls",
            "_view_module_version": "1.5.0",
            "_view_name": "ProgressView",
            "bar_style": "success",
            "description": "",
            "description_tooltip": null,
            "layout": "IPY_MODEL_ba6c3bdef77841168d7e95e2fa8e1bd9",
            "max": 1295135,
            "min": 0,
            "orientation": "horizontal",
            "style": "IPY_MODEL_9d62161b53e1440e994dd5daea74bdc8",
            "value": 1295135
          }
        },
        "adc8151c5f6c458bb779c1c9332b9579": {
          "model_module": "@jupyter-widgets/controls",
          "model_name": "HTMLModel",
          "model_module_version": "1.5.0",
          "state": {
            "_dom_classes": [],
            "_model_module": "@jupyter-widgets/controls",
            "_model_module_version": "1.5.0",
            "_model_name": "HTMLModel",
            "_view_count": null,
            "_view_module": "@jupyter-widgets/controls",
            "_view_module_version": "1.5.0",
            "_view_name": "HTMLView",
            "description": "",
            "description_tooltip": null,
            "layout": "IPY_MODEL_04c1bedb56ca440a89c762e8c620749e",
            "placeholder": "​",
            "style": "IPY_MODEL_d3a02fcefb4648f2a672d973e2b00674",
            "value": " 1295135/1295135 [02:22&lt;00:00, 11140.50it/s]"
          }
        },
        "78f5980c1d7843e49ff0072b67a0a037": {
          "model_module": "@jupyter-widgets/base",
          "model_name": "LayoutModel",
          "model_module_version": "1.2.0",
          "state": {
            "_model_module": "@jupyter-widgets/base",
            "_model_module_version": "1.2.0",
            "_model_name": "LayoutModel",
            "_view_count": null,
            "_view_module": "@jupyter-widgets/base",
            "_view_module_version": "1.2.0",
            "_view_name": "LayoutView",
            "align_content": null,
            "align_items": null,
            "align_self": null,
            "border": null,
            "bottom": null,
            "display": null,
            "flex": null,
            "flex_flow": null,
            "grid_area": null,
            "grid_auto_columns": null,
            "grid_auto_flow": null,
            "grid_auto_rows": null,
            "grid_column": null,
            "grid_gap": null,
            "grid_row": null,
            "grid_template_areas": null,
            "grid_template_columns": null,
            "grid_template_rows": null,
            "height": null,
            "justify_content": null,
            "justify_items": null,
            "left": null,
            "margin": null,
            "max_height": null,
            "max_width": null,
            "min_height": null,
            "min_width": null,
            "object_fit": null,
            "object_position": null,
            "order": null,
            "overflow": null,
            "overflow_x": null,
            "overflow_y": null,
            "padding": null,
            "right": null,
            "top": null,
            "visibility": null,
            "width": null
          }
        },
        "3bcdd377940d45598b9bbcb4ac3b718a": {
          "model_module": "@jupyter-widgets/base",
          "model_name": "LayoutModel",
          "model_module_version": "1.2.0",
          "state": {
            "_model_module": "@jupyter-widgets/base",
            "_model_module_version": "1.2.0",
            "_model_name": "LayoutModel",
            "_view_count": null,
            "_view_module": "@jupyter-widgets/base",
            "_view_module_version": "1.2.0",
            "_view_name": "LayoutView",
            "align_content": null,
            "align_items": null,
            "align_self": null,
            "border": null,
            "bottom": null,
            "display": null,
            "flex": null,
            "flex_flow": null,
            "grid_area": null,
            "grid_auto_columns": null,
            "grid_auto_flow": null,
            "grid_auto_rows": null,
            "grid_column": null,
            "grid_gap": null,
            "grid_row": null,
            "grid_template_areas": null,
            "grid_template_columns": null,
            "grid_template_rows": null,
            "height": null,
            "justify_content": null,
            "justify_items": null,
            "left": null,
            "margin": null,
            "max_height": null,
            "max_width": null,
            "min_height": null,
            "min_width": null,
            "object_fit": null,
            "object_position": null,
            "order": null,
            "overflow": null,
            "overflow_x": null,
            "overflow_y": null,
            "padding": null,
            "right": null,
            "top": null,
            "visibility": null,
            "width": null
          }
        },
        "bebaba509908449c817ee0e5c0e5c4e5": {
          "model_module": "@jupyter-widgets/controls",
          "model_name": "DescriptionStyleModel",
          "model_module_version": "1.5.0",
          "state": {
            "_model_module": "@jupyter-widgets/controls",
            "_model_module_version": "1.5.0",
            "_model_name": "DescriptionStyleModel",
            "_view_count": null,
            "_view_module": "@jupyter-widgets/base",
            "_view_module_version": "1.2.0",
            "_view_name": "StyleView",
            "description_width": ""
          }
        },
        "ba6c3bdef77841168d7e95e2fa8e1bd9": {
          "model_module": "@jupyter-widgets/base",
          "model_name": "LayoutModel",
          "model_module_version": "1.2.0",
          "state": {
            "_model_module": "@jupyter-widgets/base",
            "_model_module_version": "1.2.0",
            "_model_name": "LayoutModel",
            "_view_count": null,
            "_view_module": "@jupyter-widgets/base",
            "_view_module_version": "1.2.0",
            "_view_name": "LayoutView",
            "align_content": null,
            "align_items": null,
            "align_self": null,
            "border": null,
            "bottom": null,
            "display": null,
            "flex": null,
            "flex_flow": null,
            "grid_area": null,
            "grid_auto_columns": null,
            "grid_auto_flow": null,
            "grid_auto_rows": null,
            "grid_column": null,
            "grid_gap": null,
            "grid_row": null,
            "grid_template_areas": null,
            "grid_template_columns": null,
            "grid_template_rows": null,
            "height": null,
            "justify_content": null,
            "justify_items": null,
            "left": null,
            "margin": null,
            "max_height": null,
            "max_width": null,
            "min_height": null,
            "min_width": null,
            "object_fit": null,
            "object_position": null,
            "order": null,
            "overflow": null,
            "overflow_x": null,
            "overflow_y": null,
            "padding": null,
            "right": null,
            "top": null,
            "visibility": null,
            "width": null
          }
        },
        "9d62161b53e1440e994dd5daea74bdc8": {
          "model_module": "@jupyter-widgets/controls",
          "model_name": "ProgressStyleModel",
          "model_module_version": "1.5.0",
          "state": {
            "_model_module": "@jupyter-widgets/controls",
            "_model_module_version": "1.5.0",
            "_model_name": "ProgressStyleModel",
            "_view_count": null,
            "_view_module": "@jupyter-widgets/base",
            "_view_module_version": "1.2.0",
            "_view_name": "StyleView",
            "bar_color": null,
            "description_width": ""
          }
        },
        "04c1bedb56ca440a89c762e8c620749e": {
          "model_module": "@jupyter-widgets/base",
          "model_name": "LayoutModel",
          "model_module_version": "1.2.0",
          "state": {
            "_model_module": "@jupyter-widgets/base",
            "_model_module_version": "1.2.0",
            "_model_name": "LayoutModel",
            "_view_count": null,
            "_view_module": "@jupyter-widgets/base",
            "_view_module_version": "1.2.0",
            "_view_name": "LayoutView",
            "align_content": null,
            "align_items": null,
            "align_self": null,
            "border": null,
            "bottom": null,
            "display": null,
            "flex": null,
            "flex_flow": null,
            "grid_area": null,
            "grid_auto_columns": null,
            "grid_auto_flow": null,
            "grid_auto_rows": null,
            "grid_column": null,
            "grid_gap": null,
            "grid_row": null,
            "grid_template_areas": null,
            "grid_template_columns": null,
            "grid_template_rows": null,
            "height": null,
            "justify_content": null,
            "justify_items": null,
            "left": null,
            "margin": null,
            "max_height": null,
            "max_width": null,
            "min_height": null,
            "min_width": null,
            "object_fit": null,
            "object_position": null,
            "order": null,
            "overflow": null,
            "overflow_x": null,
            "overflow_y": null,
            "padding": null,
            "right": null,
            "top": null,
            "visibility": null,
            "width": null
          }
        },
        "d3a02fcefb4648f2a672d973e2b00674": {
          "model_module": "@jupyter-widgets/controls",
          "model_name": "DescriptionStyleModel",
          "model_module_version": "1.5.0",
          "state": {
            "_model_module": "@jupyter-widgets/controls",
            "_model_module_version": "1.5.0",
            "_model_name": "DescriptionStyleModel",
            "_view_count": null,
            "_view_module": "@jupyter-widgets/base",
            "_view_module_version": "1.2.0",
            "_view_name": "StyleView",
            "description_width": ""
          }
        },
        "345fa2f44c664a38bf974023f118f13a": {
          "model_module": "@jupyter-widgets/controls",
          "model_name": "HBoxModel",
          "model_module_version": "1.5.0",
          "state": {
            "_dom_classes": [],
            "_model_module": "@jupyter-widgets/controls",
            "_model_module_version": "1.5.0",
            "_model_name": "HBoxModel",
            "_view_count": null,
            "_view_module": "@jupyter-widgets/controls",
            "_view_module_version": "1.5.0",
            "_view_name": "HBoxView",
            "box_style": "",
            "children": [
              "IPY_MODEL_4b079ef2ddfd4878b898c76056a29c16",
              "IPY_MODEL_c5bb9dec7fe343eb9e73d935cf3f653a",
              "IPY_MODEL_a4eb67878e04407784d54e98876c7a93"
            ],
            "layout": "IPY_MODEL_cc3391fe22504d68998843aa77ef9bdf"
          }
        },
        "4b079ef2ddfd4878b898c76056a29c16": {
          "model_module": "@jupyter-widgets/controls",
          "model_name": "HTMLModel",
          "model_module_version": "1.5.0",
          "state": {
            "_dom_classes": [],
            "_model_module": "@jupyter-widgets/controls",
            "_model_module_version": "1.5.0",
            "_model_name": "HTMLModel",
            "_view_count": null,
            "_view_module": "@jupyter-widgets/controls",
            "_view_module_version": "1.5.0",
            "_view_name": "HTMLView",
            "description": "",
            "description_tooltip": null,
            "layout": "IPY_MODEL_875bdd20f43d42a480678e06ed168103",
            "placeholder": "​",
            "style": "IPY_MODEL_7319f4d616bc4dcebba345547508bd11",
            "value": "100%"
          }
        },
        "c5bb9dec7fe343eb9e73d935cf3f653a": {
          "model_module": "@jupyter-widgets/controls",
          "model_name": "FloatProgressModel",
          "model_module_version": "1.5.0",
          "state": {
            "_dom_classes": [],
            "_model_module": "@jupyter-widgets/controls",
            "_model_module_version": "1.5.0",
            "_model_name": "FloatProgressModel",
            "_view_count": null,
            "_view_module": "@jupyter-widgets/controls",
            "_view_module_version": "1.5.0",
            "_view_name": "ProgressView",
            "bar_style": "success",
            "description": "",
            "description_tooltip": null,
            "layout": "IPY_MODEL_0194333703de4250a12c17a18a5d7e33",
            "max": 143797,
            "min": 0,
            "orientation": "horizontal",
            "style": "IPY_MODEL_c00e15acc5534151a3c49e684a85831c",
            "value": 143797
          }
        },
        "a4eb67878e04407784d54e98876c7a93": {
          "model_module": "@jupyter-widgets/controls",
          "model_name": "HTMLModel",
          "model_module_version": "1.5.0",
          "state": {
            "_dom_classes": [],
            "_model_module": "@jupyter-widgets/controls",
            "_model_module_version": "1.5.0",
            "_model_name": "HTMLModel",
            "_view_count": null,
            "_view_module": "@jupyter-widgets/controls",
            "_view_module_version": "1.5.0",
            "_view_name": "HTMLView",
            "description": "",
            "description_tooltip": null,
            "layout": "IPY_MODEL_944a9fa8b519471481e8ea2fc05ab51d",
            "placeholder": "​",
            "style": "IPY_MODEL_a6c1e55e1ffa4e75b430e8a5c9b1c78e",
            "value": " 143797/143797 [00:21&lt;00:00, 6750.29it/s]"
          }
        },
        "cc3391fe22504d68998843aa77ef9bdf": {
          "model_module": "@jupyter-widgets/base",
          "model_name": "LayoutModel",
          "model_module_version": "1.2.0",
          "state": {
            "_model_module": "@jupyter-widgets/base",
            "_model_module_version": "1.2.0",
            "_model_name": "LayoutModel",
            "_view_count": null,
            "_view_module": "@jupyter-widgets/base",
            "_view_module_version": "1.2.0",
            "_view_name": "LayoutView",
            "align_content": null,
            "align_items": null,
            "align_self": null,
            "border": null,
            "bottom": null,
            "display": null,
            "flex": null,
            "flex_flow": null,
            "grid_area": null,
            "grid_auto_columns": null,
            "grid_auto_flow": null,
            "grid_auto_rows": null,
            "grid_column": null,
            "grid_gap": null,
            "grid_row": null,
            "grid_template_areas": null,
            "grid_template_columns": null,
            "grid_template_rows": null,
            "height": null,
            "justify_content": null,
            "justify_items": null,
            "left": null,
            "margin": null,
            "max_height": null,
            "max_width": null,
            "min_height": null,
            "min_width": null,
            "object_fit": null,
            "object_position": null,
            "order": null,
            "overflow": null,
            "overflow_x": null,
            "overflow_y": null,
            "padding": null,
            "right": null,
            "top": null,
            "visibility": null,
            "width": null
          }
        },
        "875bdd20f43d42a480678e06ed168103": {
          "model_module": "@jupyter-widgets/base",
          "model_name": "LayoutModel",
          "model_module_version": "1.2.0",
          "state": {
            "_model_module": "@jupyter-widgets/base",
            "_model_module_version": "1.2.0",
            "_model_name": "LayoutModel",
            "_view_count": null,
            "_view_module": "@jupyter-widgets/base",
            "_view_module_version": "1.2.0",
            "_view_name": "LayoutView",
            "align_content": null,
            "align_items": null,
            "align_self": null,
            "border": null,
            "bottom": null,
            "display": null,
            "flex": null,
            "flex_flow": null,
            "grid_area": null,
            "grid_auto_columns": null,
            "grid_auto_flow": null,
            "grid_auto_rows": null,
            "grid_column": null,
            "grid_gap": null,
            "grid_row": null,
            "grid_template_areas": null,
            "grid_template_columns": null,
            "grid_template_rows": null,
            "height": null,
            "justify_content": null,
            "justify_items": null,
            "left": null,
            "margin": null,
            "max_height": null,
            "max_width": null,
            "min_height": null,
            "min_width": null,
            "object_fit": null,
            "object_position": null,
            "order": null,
            "overflow": null,
            "overflow_x": null,
            "overflow_y": null,
            "padding": null,
            "right": null,
            "top": null,
            "visibility": null,
            "width": null
          }
        },
        "7319f4d616bc4dcebba345547508bd11": {
          "model_module": "@jupyter-widgets/controls",
          "model_name": "DescriptionStyleModel",
          "model_module_version": "1.5.0",
          "state": {
            "_model_module": "@jupyter-widgets/controls",
            "_model_module_version": "1.5.0",
            "_model_name": "DescriptionStyleModel",
            "_view_count": null,
            "_view_module": "@jupyter-widgets/base",
            "_view_module_version": "1.2.0",
            "_view_name": "StyleView",
            "description_width": ""
          }
        },
        "0194333703de4250a12c17a18a5d7e33": {
          "model_module": "@jupyter-widgets/base",
          "model_name": "LayoutModel",
          "model_module_version": "1.2.0",
          "state": {
            "_model_module": "@jupyter-widgets/base",
            "_model_module_version": "1.2.0",
            "_model_name": "LayoutModel",
            "_view_count": null,
            "_view_module": "@jupyter-widgets/base",
            "_view_module_version": "1.2.0",
            "_view_name": "LayoutView",
            "align_content": null,
            "align_items": null,
            "align_self": null,
            "border": null,
            "bottom": null,
            "display": null,
            "flex": null,
            "flex_flow": null,
            "grid_area": null,
            "grid_auto_columns": null,
            "grid_auto_flow": null,
            "grid_auto_rows": null,
            "grid_column": null,
            "grid_gap": null,
            "grid_row": null,
            "grid_template_areas": null,
            "grid_template_columns": null,
            "grid_template_rows": null,
            "height": null,
            "justify_content": null,
            "justify_items": null,
            "left": null,
            "margin": null,
            "max_height": null,
            "max_width": null,
            "min_height": null,
            "min_width": null,
            "object_fit": null,
            "object_position": null,
            "order": null,
            "overflow": null,
            "overflow_x": null,
            "overflow_y": null,
            "padding": null,
            "right": null,
            "top": null,
            "visibility": null,
            "width": null
          }
        },
        "c00e15acc5534151a3c49e684a85831c": {
          "model_module": "@jupyter-widgets/controls",
          "model_name": "ProgressStyleModel",
          "model_module_version": "1.5.0",
          "state": {
            "_model_module": "@jupyter-widgets/controls",
            "_model_module_version": "1.5.0",
            "_model_name": "ProgressStyleModel",
            "_view_count": null,
            "_view_module": "@jupyter-widgets/base",
            "_view_module_version": "1.2.0",
            "_view_name": "StyleView",
            "bar_color": null,
            "description_width": ""
          }
        },
        "944a9fa8b519471481e8ea2fc05ab51d": {
          "model_module": "@jupyter-widgets/base",
          "model_name": "LayoutModel",
          "model_module_version": "1.2.0",
          "state": {
            "_model_module": "@jupyter-widgets/base",
            "_model_module_version": "1.2.0",
            "_model_name": "LayoutModel",
            "_view_count": null,
            "_view_module": "@jupyter-widgets/base",
            "_view_module_version": "1.2.0",
            "_view_name": "LayoutView",
            "align_content": null,
            "align_items": null,
            "align_self": null,
            "border": null,
            "bottom": null,
            "display": null,
            "flex": null,
            "flex_flow": null,
            "grid_area": null,
            "grid_auto_columns": null,
            "grid_auto_flow": null,
            "grid_auto_rows": null,
            "grid_column": null,
            "grid_gap": null,
            "grid_row": null,
            "grid_template_areas": null,
            "grid_template_columns": null,
            "grid_template_rows": null,
            "height": null,
            "justify_content": null,
            "justify_items": null,
            "left": null,
            "margin": null,
            "max_height": null,
            "max_width": null,
            "min_height": null,
            "min_width": null,
            "object_fit": null,
            "object_position": null,
            "order": null,
            "overflow": null,
            "overflow_x": null,
            "overflow_y": null,
            "padding": null,
            "right": null,
            "top": null,
            "visibility": null,
            "width": null
          }
        },
        "a6c1e55e1ffa4e75b430e8a5c9b1c78e": {
          "model_module": "@jupyter-widgets/controls",
          "model_name": "DescriptionStyleModel",
          "model_module_version": "1.5.0",
          "state": {
            "_model_module": "@jupyter-widgets/controls",
            "_model_module_version": "1.5.0",
            "_model_name": "DescriptionStyleModel",
            "_view_count": null,
            "_view_module": "@jupyter-widgets/base",
            "_view_module_version": "1.2.0",
            "_view_name": "StyleView",
            "description_width": ""
          }
        }
      }
    },
    "accelerator": "GPU"
  },
  "cells": [
    {
      "cell_type": "markdown",
      "metadata": {
        "id": "view-in-github",
        "colab_type": "text"
      },
      "source": [
        "<a href=\"https://colab.research.google.com/github/ibadrather/pytorch_learn/blob/main/Part%2014%20-%20Multivariate%20Timeseries%20Analysis%20using%20Pytorch%20and%20Pytorch%20Lightening.ipynb\" target=\"_parent\"><img src=\"https://colab.research.google.com/assets/colab-badge.svg\" alt=\"Open In Colab\"/></a>"
      ]
    },
    {
      "cell_type": "markdown",
      "source": [
        "## Multivariate Time Series Forecasting with LSTM using PyTorch and PyTorch Lightning \n",
        "\n",
        "Source: https://www.youtube.com/watch?v=ODEGJ_kh2aA"
      ],
      "metadata": {
        "id": "5i1ZWlLQkBhs"
      }
    },
    {
      "cell_type": "code",
      "source": [
        "!pip install --quiet pytorch-lightning\n",
        "!pip install --quiet tqdm"
      ],
      "metadata": {
        "id": "S2Y09Q8dhC6W",
        "outputId": "fd2f332e-fa04-4786-9caa-b96f81f0d665",
        "colab": {
          "base_uri": "https://localhost:8080/"
        }
      },
      "execution_count": 4,
      "outputs": [
        {
          "output_type": "stream",
          "name": "stdout",
          "text": [
            "\u001b[K     |████████████████████████████████| 585 kB 7.3 MB/s \n",
            "\u001b[K     |████████████████████████████████| 596 kB 63.5 MB/s \n",
            "\u001b[K     |████████████████████████████████| 140 kB 66.7 MB/s \n",
            "\u001b[K     |████████████████████████████████| 419 kB 69.4 MB/s \n",
            "\u001b[K     |████████████████████████████████| 1.1 MB 50.3 MB/s \n",
            "\u001b[K     |████████████████████████████████| 144 kB 60.9 MB/s \n",
            "\u001b[K     |████████████████████████████████| 94 kB 3.6 MB/s \n",
            "\u001b[K     |████████████████████████████████| 271 kB 77.5 MB/s \n",
            "\u001b[?25h"
          ]
        }
      ]
    },
    {
      "cell_type": "code",
      "source": [
        "!nvidia-smi"
      ],
      "metadata": {
        "id": "E0TJUAxGiRaG",
        "outputId": "c74ed03c-bb78-428c-9fbd-9ddabdd72515",
        "colab": {
          "base_uri": "https://localhost:8080/"
        }
      },
      "execution_count": 3,
      "outputs": [
        {
          "output_type": "stream",
          "name": "stdout",
          "text": [
            "Sun Jun 19 05:57:23 2022       \n",
            "+-----------------------------------------------------------------------------+\n",
            "| NVIDIA-SMI 460.32.03    Driver Version: 460.32.03    CUDA Version: 11.2     |\n",
            "|-------------------------------+----------------------+----------------------+\n",
            "| GPU  Name        Persistence-M| Bus-Id        Disp.A | Volatile Uncorr. ECC |\n",
            "| Fan  Temp  Perf  Pwr:Usage/Cap|         Memory-Usage | GPU-Util  Compute M. |\n",
            "|                               |                      |               MIG M. |\n",
            "|===============================+======================+======================|\n",
            "|   0  Tesla T4            Off  | 00000000:00:04.0 Off |                    0 |\n",
            "| N/A   36C    P8     9W /  70W |      0MiB / 15109MiB |      0%      Default |\n",
            "|                               |                      |                  N/A |\n",
            "+-------------------------------+----------------------+----------------------+\n",
            "                                                                               \n",
            "+-----------------------------------------------------------------------------+\n",
            "| Processes:                                                                  |\n",
            "|  GPU   GI   CI        PID   Type   Process name                  GPU Memory |\n",
            "|        ID   ID                                                   Usage      |\n",
            "|=============================================================================|\n",
            "|  No running processes found                                                 |\n",
            "+-----------------------------------------------------------------------------+\n"
          ]
        }
      ]
    },
    {
      "cell_type": "code",
      "source": [
        "import seaborn as sns\n",
        "from pylab import rcParams\n",
        "import matplotlib.pyplot as plt\n",
        "from matplotlib import rc\n",
        "import math\n",
        "import matplotlib\n",
        "\n",
        "import pandas as pd\n",
        "import numpy as np\n",
        "from tqdm.notebook import tqdm\n",
        "\n",
        "import torch\n",
        "import torch.autograd as autograd\n",
        "import torch.nn as nn\n",
        "import torch.nn.functional as F\n",
        "import torch.optim as optim\n",
        "import pytorch_lightning as pl\n",
        "from pytorch_lightning.callbacks import ModelCheckpoint, EarlyStopping\n",
        "from pytorch_lightning.loggers import TensorBoardLogger\n",
        "\n",
        "from torch.utils.data import Dataset, DataLoader\n",
        "from sklearn.preprocessing import MinMaxScaler\n",
        "\n",
        "from collections import defaultdict"
      ],
      "metadata": {
        "id": "CnJLCSn83jsH"
      },
      "execution_count": 5,
      "outputs": []
    },
    {
      "cell_type": "markdown",
      "source": [
        "### Styling Settings"
      ],
      "metadata": {
        "id": "zXXSZ9d75jAU"
      }
    },
    {
      "cell_type": "code",
      "source": [
        "%matplotlib inline\n",
        "%config InlineBackend.figure_format='retina'\n",
        "\n",
        "sns.set(style='whitegrid', palette='muted', font_scale=1.2)\n",
        "\n",
        "HAPPY_COLORS_PALETTE = [\"#01BEFE\", \"#FFDD00\", \"#FF7D00\", \"#FF006D\", \"#93D30C\", \"#8F00FF\"]\n",
        "\n",
        "sns.set_palette(sns.color_palette(HAPPY_COLORS_PALETTE))\n",
        "\n",
        "rcParams['figure.figsize'] = 14, 10\n",
        "\n",
        "tqdm.pandas()\n"
      ],
      "metadata": {
        "id": "ohQhw77y4_a7"
      },
      "execution_count": 6,
      "outputs": []
    },
    {
      "cell_type": "code",
      "source": [
        "# Random Seed Pytorch Lightning\n",
        "pl.seed_everything(42)"
      ],
      "metadata": {
        "id": "n2VfHesC5pnO",
        "outputId": "2b449361-8e79-4aa1-d578-3b7fb62af656",
        "colab": {
          "base_uri": "https://localhost:8080/"
        }
      },
      "execution_count": 7,
      "outputs": [
        {
          "output_type": "stream",
          "name": "stderr",
          "text": [
            "Global seed set to 42\n"
          ]
        },
        {
          "output_type": "execute_result",
          "data": {
            "text/plain": [
              "42"
            ]
          },
          "metadata": {},
          "execution_count": 7
        }
      ]
    },
    {
      "cell_type": "markdown",
      "source": [
        "## Load Data"
      ],
      "metadata": {
        "id": "ctNtEGq85-3F"
      }
    },
    {
      "cell_type": "code",
      "source": [
        "# Mouting Google Drive\n",
        "from google.colab import drive\n",
        "drive.mount('/content/drive')"
      ],
      "metadata": {
        "id": "XsBeTa686El7",
        "outputId": "16cfbb7f-5b69-48b8-d6ad-43b076197a8d",
        "colab": {
          "base_uri": "https://localhost:8080/"
        }
      },
      "execution_count": 8,
      "outputs": [
        {
          "output_type": "stream",
          "name": "stdout",
          "text": [
            "Mounted at /content/drive\n"
          ]
        }
      ]
    },
    {
      "cell_type": "code",
      "source": [
        "# Dataset Source: https://www.cryptodatadownload.com/data/binance/\n",
        "\n",
        "data_path = \"/content/drive/MyDrive/Colab Notebooks/binance_btc_usd_dataset_processed.csv\"\n",
        "features_df = pd.read_csv(data_path)\n",
        "features_df"
      ],
      "metadata": {
        "id": "00QlkyGz79w9",
        "outputId": "9bc11b26-294e-41de-f016-a143e6c6bf7f",
        "colab": {
          "base_uri": "https://localhost:8080/",
          "height": 488
        }
      },
      "execution_count": 9,
      "outputs": [
        {
          "output_type": "execute_result",
          "data": {
            "text/plain": [
              "         day_of_week  day_of_month  week_of_year  month      open      high  \\\n",
              "0                  6             8            36      9  10000.00  10000.00   \n",
              "1                  6             8            36      9  10000.00  10000.00   \n",
              "2                  6             8            36      9  10000.00  10000.00   \n",
              "3                  6             8            36      9  10000.00  10000.00   \n",
              "4                  6             8            36      9  10000.00  10000.00   \n",
              "...              ...           ...           ...    ...       ...       ...   \n",
              "1439168            5            18            24      6  20643.04  20643.05   \n",
              "1439169            5            18            24      6  20619.22  20638.02   \n",
              "1439170            5            18            24      6  20619.34  20645.13   \n",
              "1439171            5            18            24      6  20597.03  20599.29   \n",
              "1439172            5            18            24      6  20599.28  20626.34   \n",
              "\n",
              "              low  close_change     close  \n",
              "0        10000.00          0.00  10000.00  \n",
              "1        10000.00          0.00  10000.00  \n",
              "2        10000.00          0.00  10000.00  \n",
              "3        10000.00          0.00  10000.00  \n",
              "4        10000.00          0.00  10000.00  \n",
              "...           ...           ...       ...  \n",
              "1439168  20617.26        -23.83  20619.22  \n",
              "1439169  20613.27          0.11  20619.33  \n",
              "1439170  20597.02        -22.31  20597.02  \n",
              "1439171  20568.90          2.26  20599.28  \n",
              "1439172  20599.28         13.78  20613.06  \n",
              "\n",
              "[1439173 rows x 9 columns]"
            ],
            "text/html": [
              "\n",
              "  <div id=\"df-c4db16c3-a40d-4ee4-bf13-b8647afaebd9\">\n",
              "    <div class=\"colab-df-container\">\n",
              "      <div>\n",
              "<style scoped>\n",
              "    .dataframe tbody tr th:only-of-type {\n",
              "        vertical-align: middle;\n",
              "    }\n",
              "\n",
              "    .dataframe tbody tr th {\n",
              "        vertical-align: top;\n",
              "    }\n",
              "\n",
              "    .dataframe thead th {\n",
              "        text-align: right;\n",
              "    }\n",
              "</style>\n",
              "<table border=\"1\" class=\"dataframe\">\n",
              "  <thead>\n",
              "    <tr style=\"text-align: right;\">\n",
              "      <th></th>\n",
              "      <th>day_of_week</th>\n",
              "      <th>day_of_month</th>\n",
              "      <th>week_of_year</th>\n",
              "      <th>month</th>\n",
              "      <th>open</th>\n",
              "      <th>high</th>\n",
              "      <th>low</th>\n",
              "      <th>close_change</th>\n",
              "      <th>close</th>\n",
              "    </tr>\n",
              "  </thead>\n",
              "  <tbody>\n",
              "    <tr>\n",
              "      <th>0</th>\n",
              "      <td>6</td>\n",
              "      <td>8</td>\n",
              "      <td>36</td>\n",
              "      <td>9</td>\n",
              "      <td>10000.00</td>\n",
              "      <td>10000.00</td>\n",
              "      <td>10000.00</td>\n",
              "      <td>0.00</td>\n",
              "      <td>10000.00</td>\n",
              "    </tr>\n",
              "    <tr>\n",
              "      <th>1</th>\n",
              "      <td>6</td>\n",
              "      <td>8</td>\n",
              "      <td>36</td>\n",
              "      <td>9</td>\n",
              "      <td>10000.00</td>\n",
              "      <td>10000.00</td>\n",
              "      <td>10000.00</td>\n",
              "      <td>0.00</td>\n",
              "      <td>10000.00</td>\n",
              "    </tr>\n",
              "    <tr>\n",
              "      <th>2</th>\n",
              "      <td>6</td>\n",
              "      <td>8</td>\n",
              "      <td>36</td>\n",
              "      <td>9</td>\n",
              "      <td>10000.00</td>\n",
              "      <td>10000.00</td>\n",
              "      <td>10000.00</td>\n",
              "      <td>0.00</td>\n",
              "      <td>10000.00</td>\n",
              "    </tr>\n",
              "    <tr>\n",
              "      <th>3</th>\n",
              "      <td>6</td>\n",
              "      <td>8</td>\n",
              "      <td>36</td>\n",
              "      <td>9</td>\n",
              "      <td>10000.00</td>\n",
              "      <td>10000.00</td>\n",
              "      <td>10000.00</td>\n",
              "      <td>0.00</td>\n",
              "      <td>10000.00</td>\n",
              "    </tr>\n",
              "    <tr>\n",
              "      <th>4</th>\n",
              "      <td>6</td>\n",
              "      <td>8</td>\n",
              "      <td>36</td>\n",
              "      <td>9</td>\n",
              "      <td>10000.00</td>\n",
              "      <td>10000.00</td>\n",
              "      <td>10000.00</td>\n",
              "      <td>0.00</td>\n",
              "      <td>10000.00</td>\n",
              "    </tr>\n",
              "    <tr>\n",
              "      <th>...</th>\n",
              "      <td>...</td>\n",
              "      <td>...</td>\n",
              "      <td>...</td>\n",
              "      <td>...</td>\n",
              "      <td>...</td>\n",
              "      <td>...</td>\n",
              "      <td>...</td>\n",
              "      <td>...</td>\n",
              "      <td>...</td>\n",
              "    </tr>\n",
              "    <tr>\n",
              "      <th>1439168</th>\n",
              "      <td>5</td>\n",
              "      <td>18</td>\n",
              "      <td>24</td>\n",
              "      <td>6</td>\n",
              "      <td>20643.04</td>\n",
              "      <td>20643.05</td>\n",
              "      <td>20617.26</td>\n",
              "      <td>-23.83</td>\n",
              "      <td>20619.22</td>\n",
              "    </tr>\n",
              "    <tr>\n",
              "      <th>1439169</th>\n",
              "      <td>5</td>\n",
              "      <td>18</td>\n",
              "      <td>24</td>\n",
              "      <td>6</td>\n",
              "      <td>20619.22</td>\n",
              "      <td>20638.02</td>\n",
              "      <td>20613.27</td>\n",
              "      <td>0.11</td>\n",
              "      <td>20619.33</td>\n",
              "    </tr>\n",
              "    <tr>\n",
              "      <th>1439170</th>\n",
              "      <td>5</td>\n",
              "      <td>18</td>\n",
              "      <td>24</td>\n",
              "      <td>6</td>\n",
              "      <td>20619.34</td>\n",
              "      <td>20645.13</td>\n",
              "      <td>20597.02</td>\n",
              "      <td>-22.31</td>\n",
              "      <td>20597.02</td>\n",
              "    </tr>\n",
              "    <tr>\n",
              "      <th>1439171</th>\n",
              "      <td>5</td>\n",
              "      <td>18</td>\n",
              "      <td>24</td>\n",
              "      <td>6</td>\n",
              "      <td>20597.03</td>\n",
              "      <td>20599.29</td>\n",
              "      <td>20568.90</td>\n",
              "      <td>2.26</td>\n",
              "      <td>20599.28</td>\n",
              "    </tr>\n",
              "    <tr>\n",
              "      <th>1439172</th>\n",
              "      <td>5</td>\n",
              "      <td>18</td>\n",
              "      <td>24</td>\n",
              "      <td>6</td>\n",
              "      <td>20599.28</td>\n",
              "      <td>20626.34</td>\n",
              "      <td>20599.28</td>\n",
              "      <td>13.78</td>\n",
              "      <td>20613.06</td>\n",
              "    </tr>\n",
              "  </tbody>\n",
              "</table>\n",
              "<p>1439173 rows × 9 columns</p>\n",
              "</div>\n",
              "      <button class=\"colab-df-convert\" onclick=\"convertToInteractive('df-c4db16c3-a40d-4ee4-bf13-b8647afaebd9')\"\n",
              "              title=\"Convert this dataframe to an interactive table.\"\n",
              "              style=\"display:none;\">\n",
              "        \n",
              "  <svg xmlns=\"http://www.w3.org/2000/svg\" height=\"24px\"viewBox=\"0 0 24 24\"\n",
              "       width=\"24px\">\n",
              "    <path d=\"M0 0h24v24H0V0z\" fill=\"none\"/>\n",
              "    <path d=\"M18.56 5.44l.94 2.06.94-2.06 2.06-.94-2.06-.94-.94-2.06-.94 2.06-2.06.94zm-11 1L8.5 8.5l.94-2.06 2.06-.94-2.06-.94L8.5 2.5l-.94 2.06-2.06.94zm10 10l.94 2.06.94-2.06 2.06-.94-2.06-.94-.94-2.06-.94 2.06-2.06.94z\"/><path d=\"M17.41 7.96l-1.37-1.37c-.4-.4-.92-.59-1.43-.59-.52 0-1.04.2-1.43.59L10.3 9.45l-7.72 7.72c-.78.78-.78 2.05 0 2.83L4 21.41c.39.39.9.59 1.41.59.51 0 1.02-.2 1.41-.59l7.78-7.78 2.81-2.81c.8-.78.8-2.07 0-2.86zM5.41 20L4 18.59l7.72-7.72 1.47 1.35L5.41 20z\"/>\n",
              "  </svg>\n",
              "      </button>\n",
              "      \n",
              "  <style>\n",
              "    .colab-df-container {\n",
              "      display:flex;\n",
              "      flex-wrap:wrap;\n",
              "      gap: 12px;\n",
              "    }\n",
              "\n",
              "    .colab-df-convert {\n",
              "      background-color: #E8F0FE;\n",
              "      border: none;\n",
              "      border-radius: 50%;\n",
              "      cursor: pointer;\n",
              "      display: none;\n",
              "      fill: #1967D2;\n",
              "      height: 32px;\n",
              "      padding: 0 0 0 0;\n",
              "      width: 32px;\n",
              "    }\n",
              "\n",
              "    .colab-df-convert:hover {\n",
              "      background-color: #E2EBFA;\n",
              "      box-shadow: 0px 1px 2px rgba(60, 64, 67, 0.3), 0px 1px 3px 1px rgba(60, 64, 67, 0.15);\n",
              "      fill: #174EA6;\n",
              "    }\n",
              "\n",
              "    [theme=dark] .colab-df-convert {\n",
              "      background-color: #3B4455;\n",
              "      fill: #D2E3FC;\n",
              "    }\n",
              "\n",
              "    [theme=dark] .colab-df-convert:hover {\n",
              "      background-color: #434B5C;\n",
              "      box-shadow: 0px 1px 3px 1px rgba(0, 0, 0, 0.15);\n",
              "      filter: drop-shadow(0px 1px 2px rgba(0, 0, 0, 0.3));\n",
              "      fill: #FFFFFF;\n",
              "    }\n",
              "  </style>\n",
              "\n",
              "      <script>\n",
              "        const buttonEl =\n",
              "          document.querySelector('#df-c4db16c3-a40d-4ee4-bf13-b8647afaebd9 button.colab-df-convert');\n",
              "        buttonEl.style.display =\n",
              "          google.colab.kernel.accessAllowed ? 'block' : 'none';\n",
              "\n",
              "        async function convertToInteractive(key) {\n",
              "          const element = document.querySelector('#df-c4db16c3-a40d-4ee4-bf13-b8647afaebd9');\n",
              "          const dataTable =\n",
              "            await google.colab.kernel.invokeFunction('convertToInteractive',\n",
              "                                                     [key], {});\n",
              "          if (!dataTable) return;\n",
              "\n",
              "          const docLinkHtml = 'Like what you see? Visit the ' +\n",
              "            '<a target=\"_blank\" href=https://colab.research.google.com/notebooks/data_table.ipynb>data table notebook</a>'\n",
              "            + ' to learn more about interactive tables.';\n",
              "          element.innerHTML = '';\n",
              "          dataTable['output_type'] = 'display_data';\n",
              "          await google.colab.output.renderOutput(dataTable, element);\n",
              "          const docLink = document.createElement('div');\n",
              "          docLink.innerHTML = docLinkHtml;\n",
              "          element.appendChild(docLink);\n",
              "        }\n",
              "      </script>\n",
              "    </div>\n",
              "  </div>\n",
              "  "
            ]
          },
          "metadata": {},
          "execution_count": 9
        }
      ]
    },
    {
      "cell_type": "markdown",
      "source": [
        "### Train-Test Split"
      ],
      "metadata": {
        "id": "B9-INVRgIZK6"
      }
    },
    {
      "cell_type": "code",
      "source": [
        "split_ratio = 0.9\n",
        "train_size = int(len(features_df) * split_ratio)\n",
        "print(train_size)"
      ],
      "metadata": {
        "colab": {
          "base_uri": "https://localhost:8080/"
        },
        "id": "pO6LuPPvIWtB",
        "outputId": "ae0c22b0-5a05-4ec6-cdbe-ab090e34d9a1"
      },
      "execution_count": 10,
      "outputs": [
        {
          "output_type": "stream",
          "name": "stdout",
          "text": [
            "1295255\n"
          ]
        }
      ]
    },
    {
      "cell_type": "code",
      "source": [
        "train_df, test_df = features_df[:train_size], features_df[train_size+1:]\n",
        "train_df.shape, test_df.shape"
      ],
      "metadata": {
        "colab": {
          "base_uri": "https://localhost:8080/"
        },
        "id": "szvEWko1Hpbh",
        "outputId": "600679c6-201f-43a9-98b9-eec86da39eb9"
      },
      "execution_count": 11,
      "outputs": [
        {
          "output_type": "execute_result",
          "data": {
            "text/plain": [
              "((1295255, 9), (143917, 9))"
            ]
          },
          "metadata": {},
          "execution_count": 11
        }
      ]
    },
    {
      "cell_type": "code",
      "source": [
        "# Normalising the Data\n",
        "scaler = MinMaxScaler(feature_range=(-1, 1))\n",
        "scaler = scaler.fit(train_df)"
      ],
      "metadata": {
        "id": "gk1WxPSUJPie"
      },
      "execution_count": 12,
      "outputs": []
    },
    {
      "cell_type": "code",
      "source": [
        "train_df = pd.DataFrame(\n",
        "    scaler.transform(train_df),\n",
        "    index = train_df.index,\n",
        "    columns = train_df.columns\n",
        ")\n",
        "train_df.head()"
      ],
      "metadata": {
        "colab": {
          "base_uri": "https://localhost:8080/",
          "height": 270
        },
        "id": "6IWPot6TJl26",
        "outputId": "e318338d-c609-4527-d2b9-1845d591bd0e"
      },
      "execution_count": 13,
      "outputs": [
        {
          "output_type": "execute_result",
          "data": {
            "text/plain": [
              "   day_of_week  day_of_month  week_of_year     month      open      high  \\\n",
              "0          1.0     -0.533333      0.346154  0.454545 -0.807237 -0.809233   \n",
              "1          1.0     -0.533333      0.346154  0.454545 -0.807237 -0.809233   \n",
              "2          1.0     -0.533333      0.346154  0.454545 -0.807237 -0.809233   \n",
              "3          1.0     -0.533333      0.346154  0.454545 -0.807237 -0.809233   \n",
              "4          1.0     -0.533333      0.346154  0.454545 -0.807237 -0.809233   \n",
              "\n",
              "        low  close_change     close  \n",
              "0 -0.804245       0.38329 -0.807237  \n",
              "1 -0.804245       0.38329 -0.807237  \n",
              "2 -0.804245       0.38329 -0.807237  \n",
              "3 -0.804245       0.38329 -0.807237  \n",
              "4 -0.804245       0.38329 -0.807237  "
            ],
            "text/html": [
              "\n",
              "  <div id=\"df-bb0d9705-7739-4d28-b91a-69ae859c4766\">\n",
              "    <div class=\"colab-df-container\">\n",
              "      <div>\n",
              "<style scoped>\n",
              "    .dataframe tbody tr th:only-of-type {\n",
              "        vertical-align: middle;\n",
              "    }\n",
              "\n",
              "    .dataframe tbody tr th {\n",
              "        vertical-align: top;\n",
              "    }\n",
              "\n",
              "    .dataframe thead th {\n",
              "        text-align: right;\n",
              "    }\n",
              "</style>\n",
              "<table border=\"1\" class=\"dataframe\">\n",
              "  <thead>\n",
              "    <tr style=\"text-align: right;\">\n",
              "      <th></th>\n",
              "      <th>day_of_week</th>\n",
              "      <th>day_of_month</th>\n",
              "      <th>week_of_year</th>\n",
              "      <th>month</th>\n",
              "      <th>open</th>\n",
              "      <th>high</th>\n",
              "      <th>low</th>\n",
              "      <th>close_change</th>\n",
              "      <th>close</th>\n",
              "    </tr>\n",
              "  </thead>\n",
              "  <tbody>\n",
              "    <tr>\n",
              "      <th>0</th>\n",
              "      <td>1.0</td>\n",
              "      <td>-0.533333</td>\n",
              "      <td>0.346154</td>\n",
              "      <td>0.454545</td>\n",
              "      <td>-0.807237</td>\n",
              "      <td>-0.809233</td>\n",
              "      <td>-0.804245</td>\n",
              "      <td>0.38329</td>\n",
              "      <td>-0.807237</td>\n",
              "    </tr>\n",
              "    <tr>\n",
              "      <th>1</th>\n",
              "      <td>1.0</td>\n",
              "      <td>-0.533333</td>\n",
              "      <td>0.346154</td>\n",
              "      <td>0.454545</td>\n",
              "      <td>-0.807237</td>\n",
              "      <td>-0.809233</td>\n",
              "      <td>-0.804245</td>\n",
              "      <td>0.38329</td>\n",
              "      <td>-0.807237</td>\n",
              "    </tr>\n",
              "    <tr>\n",
              "      <th>2</th>\n",
              "      <td>1.0</td>\n",
              "      <td>-0.533333</td>\n",
              "      <td>0.346154</td>\n",
              "      <td>0.454545</td>\n",
              "      <td>-0.807237</td>\n",
              "      <td>-0.809233</td>\n",
              "      <td>-0.804245</td>\n",
              "      <td>0.38329</td>\n",
              "      <td>-0.807237</td>\n",
              "    </tr>\n",
              "    <tr>\n",
              "      <th>3</th>\n",
              "      <td>1.0</td>\n",
              "      <td>-0.533333</td>\n",
              "      <td>0.346154</td>\n",
              "      <td>0.454545</td>\n",
              "      <td>-0.807237</td>\n",
              "      <td>-0.809233</td>\n",
              "      <td>-0.804245</td>\n",
              "      <td>0.38329</td>\n",
              "      <td>-0.807237</td>\n",
              "    </tr>\n",
              "    <tr>\n",
              "      <th>4</th>\n",
              "      <td>1.0</td>\n",
              "      <td>-0.533333</td>\n",
              "      <td>0.346154</td>\n",
              "      <td>0.454545</td>\n",
              "      <td>-0.807237</td>\n",
              "      <td>-0.809233</td>\n",
              "      <td>-0.804245</td>\n",
              "      <td>0.38329</td>\n",
              "      <td>-0.807237</td>\n",
              "    </tr>\n",
              "  </tbody>\n",
              "</table>\n",
              "</div>\n",
              "      <button class=\"colab-df-convert\" onclick=\"convertToInteractive('df-bb0d9705-7739-4d28-b91a-69ae859c4766')\"\n",
              "              title=\"Convert this dataframe to an interactive table.\"\n",
              "              style=\"display:none;\">\n",
              "        \n",
              "  <svg xmlns=\"http://www.w3.org/2000/svg\" height=\"24px\"viewBox=\"0 0 24 24\"\n",
              "       width=\"24px\">\n",
              "    <path d=\"M0 0h24v24H0V0z\" fill=\"none\"/>\n",
              "    <path d=\"M18.56 5.44l.94 2.06.94-2.06 2.06-.94-2.06-.94-.94-2.06-.94 2.06-2.06.94zm-11 1L8.5 8.5l.94-2.06 2.06-.94-2.06-.94L8.5 2.5l-.94 2.06-2.06.94zm10 10l.94 2.06.94-2.06 2.06-.94-2.06-.94-.94-2.06-.94 2.06-2.06.94z\"/><path d=\"M17.41 7.96l-1.37-1.37c-.4-.4-.92-.59-1.43-.59-.52 0-1.04.2-1.43.59L10.3 9.45l-7.72 7.72c-.78.78-.78 2.05 0 2.83L4 21.41c.39.39.9.59 1.41.59.51 0 1.02-.2 1.41-.59l7.78-7.78 2.81-2.81c.8-.78.8-2.07 0-2.86zM5.41 20L4 18.59l7.72-7.72 1.47 1.35L5.41 20z\"/>\n",
              "  </svg>\n",
              "      </button>\n",
              "      \n",
              "  <style>\n",
              "    .colab-df-container {\n",
              "      display:flex;\n",
              "      flex-wrap:wrap;\n",
              "      gap: 12px;\n",
              "    }\n",
              "\n",
              "    .colab-df-convert {\n",
              "      background-color: #E8F0FE;\n",
              "      border: none;\n",
              "      border-radius: 50%;\n",
              "      cursor: pointer;\n",
              "      display: none;\n",
              "      fill: #1967D2;\n",
              "      height: 32px;\n",
              "      padding: 0 0 0 0;\n",
              "      width: 32px;\n",
              "    }\n",
              "\n",
              "    .colab-df-convert:hover {\n",
              "      background-color: #E2EBFA;\n",
              "      box-shadow: 0px 1px 2px rgba(60, 64, 67, 0.3), 0px 1px 3px 1px rgba(60, 64, 67, 0.15);\n",
              "      fill: #174EA6;\n",
              "    }\n",
              "\n",
              "    [theme=dark] .colab-df-convert {\n",
              "      background-color: #3B4455;\n",
              "      fill: #D2E3FC;\n",
              "    }\n",
              "\n",
              "    [theme=dark] .colab-df-convert:hover {\n",
              "      background-color: #434B5C;\n",
              "      box-shadow: 0px 1px 3px 1px rgba(0, 0, 0, 0.15);\n",
              "      filter: drop-shadow(0px 1px 2px rgba(0, 0, 0, 0.3));\n",
              "      fill: #FFFFFF;\n",
              "    }\n",
              "  </style>\n",
              "\n",
              "      <script>\n",
              "        const buttonEl =\n",
              "          document.querySelector('#df-bb0d9705-7739-4d28-b91a-69ae859c4766 button.colab-df-convert');\n",
              "        buttonEl.style.display =\n",
              "          google.colab.kernel.accessAllowed ? 'block' : 'none';\n",
              "\n",
              "        async function convertToInteractive(key) {\n",
              "          const element = document.querySelector('#df-bb0d9705-7739-4d28-b91a-69ae859c4766');\n",
              "          const dataTable =\n",
              "            await google.colab.kernel.invokeFunction('convertToInteractive',\n",
              "                                                     [key], {});\n",
              "          if (!dataTable) return;\n",
              "\n",
              "          const docLinkHtml = 'Like what you see? Visit the ' +\n",
              "            '<a target=\"_blank\" href=https://colab.research.google.com/notebooks/data_table.ipynb>data table notebook</a>'\n",
              "            + ' to learn more about interactive tables.';\n",
              "          element.innerHTML = '';\n",
              "          dataTable['output_type'] = 'display_data';\n",
              "          await google.colab.output.renderOutput(dataTable, element);\n",
              "          const docLink = document.createElement('div');\n",
              "          docLink.innerHTML = docLinkHtml;\n",
              "          element.appendChild(docLink);\n",
              "        }\n",
              "      </script>\n",
              "    </div>\n",
              "  </div>\n",
              "  "
            ]
          },
          "metadata": {},
          "execution_count": 13
        }
      ]
    },
    {
      "cell_type": "markdown",
      "source": [
        "#### Cutting DataFrame in Multiple Sequences"
      ],
      "metadata": {
        "id": "vnwd9vXgKZui"
      }
    },
    {
      "cell_type": "code",
      "source": [
        "def create_sequences(input_data: pd.DataFrame, target_column, sequence_length=3):\n",
        "  sequences = []\n",
        "  data_size = len(input_data)\n",
        "\n",
        "  for i in tqdm(range(data_size - sequence_length)):\n",
        "    sequence = input_data[i:i+sequence_length]\n",
        "    label_position = i + sequence_length\n",
        "    label = input_data.iloc[label_position][target_column]\n",
        "\n",
        "    sequences.append((sequence, label))\n",
        "\n",
        "  return sequences"
      ],
      "metadata": {
        "id": "3YSp4cu2KZG4"
      },
      "execution_count": 14,
      "outputs": []
    },
    {
      "cell_type": "markdown",
      "source": [
        "#### Creating Training and Testing Sequences"
      ],
      "metadata": {
        "id": "Ntkc7ml2MZO3"
      }
    },
    {
      "cell_type": "code",
      "source": [
        "SEQUENCE_LENGTH = 120"
      ],
      "metadata": {
        "id": "JHzbuwJGNW0T"
      },
      "execution_count": 15,
      "outputs": []
    },
    {
      "cell_type": "code",
      "source": [
        "train_sequences = create_sequences(train_df, \"close\", sequence_length=SEQUENCE_LENGTH)\n",
        "test_sequences = create_sequences(test_df, \"close\", sequence_length=SEQUENCE_LENGTH)"
      ],
      "metadata": {
        "colab": {
          "base_uri": "https://localhost:8080/",
          "height": 81,
          "referenced_widgets": [
            "c4ecc61071994d38bad18ea48fe0e4f0",
            "6afd0cf499714137bd8018e331d74517",
            "35157febd4284e2694feb4819cceb9d6",
            "adc8151c5f6c458bb779c1c9332b9579",
            "78f5980c1d7843e49ff0072b67a0a037",
            "3bcdd377940d45598b9bbcb4ac3b718a",
            "bebaba509908449c817ee0e5c0e5c4e5",
            "ba6c3bdef77841168d7e95e2fa8e1bd9",
            "9d62161b53e1440e994dd5daea74bdc8",
            "04c1bedb56ca440a89c762e8c620749e",
            "d3a02fcefb4648f2a672d973e2b00674",
            "345fa2f44c664a38bf974023f118f13a",
            "4b079ef2ddfd4878b898c76056a29c16",
            "c5bb9dec7fe343eb9e73d935cf3f653a",
            "a4eb67878e04407784d54e98876c7a93",
            "cc3391fe22504d68998843aa77ef9bdf",
            "875bdd20f43d42a480678e06ed168103",
            "7319f4d616bc4dcebba345547508bd11",
            "0194333703de4250a12c17a18a5d7e33",
            "c00e15acc5534151a3c49e684a85831c",
            "944a9fa8b519471481e8ea2fc05ab51d",
            "a6c1e55e1ffa4e75b430e8a5c9b1c78e"
          ]
        },
        "id": "_4josB6JLwQJ",
        "outputId": "e637704b-22b2-4a0e-c146-8c51237209dd"
      },
      "execution_count": 17,
      "outputs": [
        {
          "output_type": "display_data",
          "data": {
            "text/plain": [
              "  0%|          | 0/1295135 [00:00<?, ?it/s]"
            ],
            "application/vnd.jupyter.widget-view+json": {
              "version_major": 2,
              "version_minor": 0,
              "model_id": "c4ecc61071994d38bad18ea48fe0e4f0"
            }
          },
          "metadata": {}
        },
        {
          "output_type": "display_data",
          "data": {
            "text/plain": [
              "  0%|          | 0/143797 [00:00<?, ?it/s]"
            ],
            "application/vnd.jupyter.widget-view+json": {
              "version_major": 2,
              "version_minor": 0,
              "model_id": "345fa2f44c664a38bf974023f118f13a"
            }
          },
          "metadata": {}
        }
      ]
    },
    {
      "cell_type": "code",
      "source": [
        "# Let's check first sequence label and data\n",
        "print(\"Label: \", train_sequences[0][1])\n",
        "print(\"\")\n",
        "print(\"Sequence: \",train_sequences[0][0])\n",
        "print(\"Sequence Shape: \",train_sequences[0][0].shape)"
      ],
      "metadata": {
        "colab": {
          "base_uri": "https://localhost:8080/"
        },
        "id": "G6peMcOWNtYu",
        "outputId": "ca1ace36-62ab-4b34-ee99-30b5dc99c372"
      },
      "execution_count": 21,
      "outputs": [
        {
          "output_type": "stream",
          "name": "stdout",
          "text": [
            "Label:  -0.7968720708976027\n",
            "\n",
            "Sequence:       day_of_week  day_of_month  week_of_year     month      open      high  \\\n",
            "0            1.0     -0.533333      0.346154  0.454545 -0.807237 -0.809233   \n",
            "1            1.0     -0.533333      0.346154  0.454545 -0.807237 -0.809233   \n",
            "2            1.0     -0.533333      0.346154  0.454545 -0.807237 -0.809233   \n",
            "3            1.0     -0.533333      0.346154  0.454545 -0.807237 -0.809233   \n",
            "4            1.0     -0.533333      0.346154  0.454545 -0.807237 -0.809233   \n",
            "..           ...           ...           ...       ...       ...       ...   \n",
            "115          1.0     -0.533333      0.346154  0.454545 -0.796720 -0.798670   \n",
            "116          1.0     -0.533333      0.346154  0.454545 -0.796688 -0.798673   \n",
            "117          1.0     -0.533333      0.346154  0.454545 -0.796778 -0.798762   \n",
            "118          1.0     -0.533333      0.346154  0.454545 -0.796825 -0.798810   \n",
            "119          1.0     -0.533333      0.346154  0.454545 -0.796849 -0.798709   \n",
            "\n",
            "          low  close_change     close  \n",
            "0   -0.804245      0.383290 -0.807237  \n",
            "1   -0.804245      0.383290 -0.807237  \n",
            "2   -0.804245      0.383290 -0.807237  \n",
            "3   -0.804245      0.383290 -0.807237  \n",
            "4   -0.804245      0.383290 -0.807237  \n",
            "..        ...           ...       ...  \n",
            "115 -0.793707      0.383599 -0.796688  \n",
            "116 -0.793765      0.382436 -0.796778  \n",
            "117 -0.793812      0.382838 -0.796825  \n",
            "118 -0.793859      0.382844 -0.796872  \n",
            "119 -0.793859      0.383290 -0.796872  \n",
            "\n",
            "[120 rows x 9 columns]\n",
            "Sequence Shape:  (120, 9)\n"
          ]
        }
      ]
    },
    {
      "cell_type": "code",
      "source": [
        "len(train_sequences), len(test_sequences)"
      ],
      "metadata": {
        "colab": {
          "base_uri": "https://localhost:8080/"
        },
        "id": "xzc23o_bNnUO",
        "outputId": "0e98d20d-4fd4-4f8b-d787-8035c5e7ca66"
      },
      "execution_count": 22,
      "outputs": [
        {
          "output_type": "execute_result",
          "data": {
            "text/plain": [
              "(1295135, 143797)"
            ]
          },
          "metadata": {},
          "execution_count": 22
        }
      ]
    },
    {
      "cell_type": "markdown",
      "source": [
        "## Creating PyTorch Datasets"
      ],
      "metadata": {
        "id": "qdxToMIhj7TQ"
      }
    },
    {
      "cell_type": "code",
      "source": [
        "class BTCDataset(Dataset):\n",
        "  def __init__(self, sequences):\n",
        "    self.sequences = sequences\n",
        "\n",
        "  def __len__(self):\n",
        "    return len(self.sequences)\n",
        "  \n",
        "  def __getitem__(self, idx):\n",
        "    sequence, label = self.sequences[idx]\n",
        "    return dict(\n",
        "        sequence = torch.Tensor(sequence.to_numpy()),\n",
        "        label = torch.tensor(label).float()\n",
        "    )"
      ],
      "metadata": {
        "id": "QLnED-QKO1a9"
      },
      "execution_count": 43,
      "outputs": []
    },
    {
      "cell_type": "code",
      "source": [
        "class BTCPriceDataModule(pl.LightningDataModule):\n",
        "  def __init__(\n",
        "      self, train_sequences, test_sequences, batch_size = 8\n",
        "  ):\n",
        "    super().__init__()\n",
        "    self.train_sequences = train_sequences\n",
        "    self.test_sequences = test_sequences\n",
        "    self.batch_size = batch_size\n",
        "  \n",
        "  def setup(self):\n",
        "    self.train_dataset = BTCDataset(self.train_sequences)\n",
        "    self.test_dataset = BTCDataset(self.test_sequences)\n",
        "  \n",
        "  def train_dataloader(self):\n",
        "    return DataLoader(\n",
        "        self.train_dataset,\n",
        "        batch_size = self.batch_size,\n",
        "        shuffle = False,\n",
        "        num_workers = 2\n",
        "    )\n",
        "\n",
        "  def val_dataloader(self):\n",
        "    return DataLoader(\n",
        "        self.test_dataset,\n",
        "        batch_size = 1,\n",
        "        shuffle = False,\n",
        "        num_workers = 1\n",
        "    )\n",
        "  def test_dataloader(self):\n",
        "    return DataLoader(\n",
        "        self.test_dataset,\n",
        "        batch_size = 1,\n",
        "        shuffle = False,\n",
        "        num_workers = 1\n",
        "    )"
      ],
      "metadata": {
        "id": "T0EhKlSQkzKS"
      },
      "execution_count": 44,
      "outputs": []
    },
    {
      "cell_type": "markdown",
      "source": [
        "### Model Parameters"
      ],
      "metadata": {
        "id": "GB2-Uz6wmcQU"
      }
    },
    {
      "cell_type": "code",
      "source": [
        "N_EPOCHS = 8\n",
        "BATCH_SIZE = 64"
      ],
      "metadata": {
        "id": "A9-8GF_vmNhX"
      },
      "execution_count": 45,
      "outputs": []
    },
    {
      "cell_type": "code",
      "source": [
        "data_module = BTCPriceDataModule(train_sequences, test_sequences, batch_size = BATCH_SIZE)\n",
        "data_module.setup()"
      ],
      "metadata": {
        "id": "ihIgOpW3mlJi"
      },
      "execution_count": 46,
      "outputs": []
    },
    {
      "cell_type": "code",
      "source": [
        "train_dataset = BTCDataset(train_sequences)"
      ],
      "metadata": {
        "id": "tbjNHEklmzJI"
      },
      "execution_count": 47,
      "outputs": []
    },
    {
      "cell_type": "code",
      "source": [
        "# Testing our dataloader\n",
        "a = iter(train_dataset)\n",
        "b = next(a)\n",
        "print(\"Sequence Shape: \", b[\"sequence\"].shape)\n",
        "print(\"Label: {} and Label Shape: {}\".format(b[\"label\"], b[\"label\"].shape) )"
      ],
      "metadata": {
        "id": "8fG1-Ybcm_tO",
        "outputId": "d452b39b-e1e6-4f5f-e123-ac8dcc26c41d",
        "colab": {
          "base_uri": "https://localhost:8080/"
        }
      },
      "execution_count": 52,
      "outputs": [
        {
          "output_type": "stream",
          "name": "stdout",
          "text": [
            "Sequence Shape:  torch.Size([120, 9])\n",
            "Label: -0.796872079372406 and Label Shape: torch.Size([])\n"
          ]
        }
      ]
    },
    {
      "cell_type": "markdown",
      "source": [
        "## Model"
      ],
      "metadata": {
        "id": "p1Pu-nPAojMn"
      }
    },
    {
      "cell_type": "code",
      "source": [
        "class PricePredictionModel(nn.Module):\n",
        "  def __init__(self, n_features, n_hidden=128, n_layers=2):\n",
        "    super().__init__()\n",
        "\n",
        "    self.n_hidden = n_hidden\n",
        "\n",
        "    self.lstm = nn.LSTM(\n",
        "        input_size = n_features,\n",
        "        hidden_size = n_hidden,\n",
        "        batch_first = True,\n",
        "        num_layers = n_layers, # Stack LSTMs\n",
        "        dropout = 0.2\n",
        "    )\n",
        "\n",
        "    self.regressor = nn.Linear(n_hidden, 1)\n",
        "\n",
        "  def forward(self, x):\n",
        "    self.lstm.flatten_parameters()  # For distrubuted training\n",
        "\n",
        "    _, (hidden, _) = self.lstm(x)\n",
        "    # We want the output from the last layer to go into the final\n",
        "    # regressor linear layer\n",
        "    out = hidden[-1] \n",
        "\n",
        "    return self.regressor(out)"
      ],
      "metadata": {
        "id": "UloKmcBNnIsE"
      },
      "execution_count": 54,
      "outputs": []
    },
    {
      "cell_type": "code",
      "source": [
        "class BTCPricePredictor(pl.LightningModule):\n",
        "\n",
        "  def __init__(self, n_features: int):\n",
        "    self.model = PricePredictionModel(n_features)\n",
        "    self.criterion = nn.MSELoss()\n",
        "\n",
        "  def forward(self, x, labels=None):\n",
        "    output = self.model(x)\n",
        "    \n",
        "    loss = 0\n",
        "\n",
        "    if labels is not None:\n",
        "      loss\n",
        "    \n",
        "    return loss, output"
      ],
      "metadata": {
        "id": "U4_-o0eHqnQk"
      },
      "execution_count": null,
      "outputs": []
    }
  ]
}