{
 "cells": [
  {
   "cell_type": "markdown",
   "metadata": {},
   "source": [
    "# Generating Housing Price and Loan Probability Data\n",
    "\n",
    "#####    Author: Ibad Rather, ibad.rather.ir@gmail.com\n"
   ]
  },
  {
   "cell_type": "markdown",
   "metadata": {},
   "source": [
    "\n",
    "\n",
    "I want to generate housing prics and loan probability (getting a loan on that house) data based on a mathematical relation. \n",
    "\n",
    "\n",
    "I want to do this to test various models for multi-variate (inputs) and \n",
    "multiple targets (outputs) type of data (Also for fun and to see how much\n",
    "realistic I am able to make this data). \n",
    "\n",
    "\n",
    "\n",
    "I will generate data based on the relations\n",
    "Inputs: 13p,  24q, 9r, 2s, 34t, 19u \n",
    "Outputs: p/1.5, q/1.5, r/1.5, (s+t+u)/5\n",
    "\n",
    "This is done so that some relationship exists.\n",
    "\n",
    "Also you can see one input is associated with only one output.\n",
    "This is what I want here. \n",
    "And one output is associated with 3 inputs\n",
    "\n"
   ]
  },
  {
   "cell_type": "code",
   "execution_count": null,
   "metadata": {},
   "outputs": [],
   "source": [
    "import numpy as np\n",
    "from numpy.random import rand\n",
    "import pandas as pd\n",
    "import pickle\n",
    "\n",
    "n = 100000\n",
    "def gen_mimo_data(n=10000):\n",
    "    # Multi-variate-Inputs\n",
    "    p, q, r, s, t, u = 13*rand(n), 24*rand(n), 9*rand(n), \\\n",
    "                    2*rand(n), 34*rand(n), 19*rand(n)\n",
    "\n",
    "    # Multi-variate Outputs\n",
    "    a, b, c, d = p/1.5, q/1.5, r/1.5, (s+t+u) / 5\n",
    "    data = pd.DataFrame(\n",
    "        dict(\n",
    "            i_p = p,\n",
    "            i_q = q,\n",
    "            i_r = r,\n",
    "            i_s = s,\n",
    "            i_t = t,\n",
    "            i_u = u,\n",
    "            o_a = a,\n",
    "            o_b = b,\n",
    "            o_c = c,\n",
    "            o_d = d\n",
    "        )\n",
    "    )\n",
    "    \n",
    "    #data.to_csv(\"mimo_data.csv\", index=False)\n",
    "    # I will save it as a pickle file to save space\n",
    "    with open(\"mimo_data.pkl\", \"wb\") as f:\n",
    "        pickle.dump(data, f)\n",
    "\n",
    "if __name__ ==\"__main__\":\n",
    "    gen_mimo_data(n=100000)"
   ]
  }
 ],
 "metadata": {
  "language_info": {
   "name": "python"
  },
  "orig_nbformat": 4
 },
 "nbformat": 4,
 "nbformat_minor": 2
}
