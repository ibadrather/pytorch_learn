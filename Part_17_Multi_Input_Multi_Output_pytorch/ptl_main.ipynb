{
 "cells": [
  {
   "cell_type": "markdown",
   "metadata": {},
   "source": [
    "## Multi-Variate Multi Target PyTorch"
   ]
  },
  {
   "cell_type": "markdown",
   "metadata": {},
   "source": [
    "#### Load Libraries"
   ]
  },
  {
   "cell_type": "code",
   "execution_count": 15,
   "metadata": {},
   "outputs": [],
   "source": [
    "import pandas as pd\n",
    "import os\n",
    "import pickle\n",
    "\n",
    "from torchsummary import summary\n",
    "from models.get_model import get_model\n",
    "\n",
    "import  pytorch_lightning as pl\n",
    "from pytorch_lightning.callbacks import ModelCheckpoint, EarlyStopping\n",
    "from pytorch_lightning.loggers import TensorBoardLogger\n",
    "from pytorch_lightning.callbacks.progress import TQDMProgressBar\n",
    "from ptl_dataloader import MIMODataModule\n",
    "from ptl_model import MIMOPredictor"
   ]
  },
  {
   "cell_type": "code",
   "execution_count": 4,
   "metadata": {},
   "outputs": [
    {
     "name": "stderr",
     "output_type": "stream",
     "text": [
      "Global seed set to 42\n"
     ]
    },
    {
     "data": {
      "text/plain": [
       "42"
      ]
     },
     "execution_count": 4,
     "metadata": {},
     "output_type": "execute_result"
    }
   ],
   "source": [
    "# Random Seed Pytorch Lightning\n",
    "pl.seed_everything(42)"
   ]
  },
  {
   "cell_type": "code",
   "execution_count": 5,
   "metadata": {},
   "outputs": [],
   "source": [
    "# Loading Data and Splitting into features and target arrays\n",
    "#data = pd.read_csv(\"mimo_data.csv\")\n",
    "with open('mimo_data.pkl', 'rb') as f:\n",
    "    data = pickle.load(f)\n",
    "\n",
    "features = data.values[ : , : 6]\n",
    "targets = data.values[ : , 6 :]"
   ]
  },
  {
   "cell_type": "code",
   "execution_count": 6,
   "metadata": {},
   "outputs": [
    {
     "name": "stdout",
     "output_type": "stream",
     "text": [
      "Train Size:  80000\n",
      "Tes Size:  20000\n"
     ]
    }
   ],
   "source": [
    "# Train-Test Split\n",
    "split_ratio = 0.8\n",
    "train_features = features[ : int(len(features) * split_ratio)]\n",
    "test_features = features[int(len(features) * split_ratio) : ]\n",
    "\n",
    "train_targets = targets[ : int(len(features) * split_ratio)]\n",
    "test_targets = targets[int(len(features) * split_ratio) : ]\n",
    "\n",
    "print(\"Train Size: \", len(train_features))\n",
    "print(\"Tes Size: \", len(test_features))"
   ]
  },
  {
   "cell_type": "code",
   "execution_count": 7,
   "metadata": {},
   "outputs": [
    {
     "name": "stdout",
     "output_type": "stream",
     "text": [
      "Number of Inputs:  6\n",
      "Number of Outputs:  4\n"
     ]
    }
   ],
   "source": [
    "# Number of input columns\n",
    "n_inputs = train_features.shape[1]  # Number of features\n",
    "n_outputs = train_targets.shape[1]  # Number of targets\n",
    "\n",
    "print(\"Number of Inputs: \", n_inputs)\n",
    "print(\"Number of Outputs: \", n_outputs)"
   ]
  },
  {
   "cell_type": "markdown",
   "metadata": {},
   "source": [
    "#### Getting a Specific Model Architecture"
   ]
  },
  {
   "cell_type": "code",
   "execution_count": 12,
   "metadata": {},
   "outputs": [
    {
     "name": "stdout",
     "output_type": "stream",
     "text": [
      "==========================================================================================\n",
      "Layer (type:depth-idx)                   Output Shape              Param #\n",
      "==========================================================================================\n",
      "├─ModuleList: 1                          []                        --\n",
      "|    └─Linear: 2-1                       [-1, 1, 1024]             7,168\n",
      "├─Dropout: 1-1                           [-1, 1, 1024]             --\n",
      "├─ModuleList: 1                          []                        --\n",
      "|    └─Linear: 2-2                       [-1, 1, 512]              524,800\n",
      "├─Dropout: 1-2                           [-1, 1, 512]              --\n",
      "├─ModuleList: 1                          []                        --\n",
      "|    └─Linear: 2-3                       [-1, 1, 256]              131,328\n",
      "├─Dropout: 1-3                           [-1, 1, 256]              --\n",
      "├─ModuleList: 1                          []                        --\n",
      "|    └─Linear: 2-4                       [-1, 1, 128]              32,896\n",
      "├─Dropout: 1-4                           [-1, 1, 128]              --\n",
      "├─ModuleList: 1                          []                        --\n",
      "|    └─Linear: 2-5                       [-1, 1, 64]               8,256\n",
      "├─Dropout: 1-5                           [-1, 1, 64]               --\n",
      "├─Linear: 1-6                            [-1, 1, 4]                260\n",
      "==========================================================================================\n",
      "Total params: 704,708\n",
      "Trainable params: 704,708\n",
      "Non-trainable params: 0\n",
      "Total mult-adds (M): 0.70\n",
      "==========================================================================================\n",
      "Input size (MB): 0.00\n",
      "Forward/backward pass size (MB): 0.02\n",
      "Params size (MB): 2.69\n",
      "Estimated Total Size (MB): 2.70\n",
      "==========================================================================================\n"
     ]
    },
    {
     "data": {
      "text/plain": [
       "==========================================================================================\n",
       "Layer (type:depth-idx)                   Output Shape              Param #\n",
       "==========================================================================================\n",
       "├─ModuleList: 1                          []                        --\n",
       "|    └─Linear: 2-1                       [-1, 1, 1024]             7,168\n",
       "├─Dropout: 1-1                           [-1, 1, 1024]             --\n",
       "├─ModuleList: 1                          []                        --\n",
       "|    └─Linear: 2-2                       [-1, 1, 512]              524,800\n",
       "├─Dropout: 1-2                           [-1, 1, 512]              --\n",
       "├─ModuleList: 1                          []                        --\n",
       "|    └─Linear: 2-3                       [-1, 1, 256]              131,328\n",
       "├─Dropout: 1-3                           [-1, 1, 256]              --\n",
       "├─ModuleList: 1                          []                        --\n",
       "|    └─Linear: 2-4                       [-1, 1, 128]              32,896\n",
       "├─Dropout: 1-4                           [-1, 1, 128]              --\n",
       "├─ModuleList: 1                          []                        --\n",
       "|    └─Linear: 2-5                       [-1, 1, 64]               8,256\n",
       "├─Dropout: 1-5                           [-1, 1, 64]               --\n",
       "├─Linear: 1-6                            [-1, 1, 4]                260\n",
       "==========================================================================================\n",
       "Total params: 704,708\n",
       "Trainable params: 704,708\n",
       "Non-trainable params: 0\n",
       "Total mult-adds (M): 0.70\n",
       "==========================================================================================\n",
       "Input size (MB): 0.00\n",
       "Forward/backward pass size (MB): 0.02\n",
       "Params size (MB): 2.69\n",
       "Estimated Total Size (MB): 2.70\n",
       "=========================================================================================="
      ]
     },
     "execution_count": 12,
     "metadata": {},
     "output_type": "execute_result"
    }
   ],
   "source": [
    "# Define the model\n",
    "architecture = \"fc_net\"\n",
    "net = get_model(architecture,n_features=n_inputs,  n_targets=n_outputs)\n",
    "summary(net, (1, n_inputs))"
   ]
  },
  {
   "cell_type": "markdown",
   "metadata": {},
   "source": [
    "#### Loading Data with ptl data module"
   ]
  },
  {
   "cell_type": "code",
   "execution_count": 13,
   "metadata": {},
   "outputs": [],
   "source": [
    "BATCH_SIZE = 64\n",
    "data_module = MIMODataModule(train_features, train_targets, \n",
    "      test_features, test_targets, batch_size=BATCH_SIZE)\n",
    "  \n",
    "data_module.setup()"
   ]
  },
  {
   "cell_type": "code",
   "execution_count": 14,
   "metadata": {},
   "outputs": [],
   "source": [
    "# Model\n",
    "model = MIMOPredictor(net)"
   ]
  },
  {
   "cell_type": "markdown",
   "metadata": {},
   "source": [
    "#### Defining Callbacks"
   ]
  },
  {
   "cell_type": "code",
   "execution_count": 16,
   "metadata": {},
   "outputs": [],
   "source": [
    "checkpoint_callback = ModelCheckpoint(\n",
    "    dirpath=\"checkpoints\",\n",
    "    filename=\"best-checkpoint\",\n",
    "    save_top_k = 2,\n",
    "    verbose = True,\n",
    "    monitor = \"val_loss\",\n",
    "    mode = \"min\"\n",
    ")\n",
    "\n",
    "logger = TensorBoardLogger(\"lightning_logs\", name = \"mimo-predict\")\n",
    "\n",
    "early_stopping_callback = EarlyStopping(monitor = \"val_loss\", patience = 30)\n",
    "\n",
    "progress_bar = TQDMProgressBar(refresh_rate=50)\n"
   ]
  },
  {
   "cell_type": "code",
   "execution_count": 17,
   "metadata": {},
   "outputs": [
    {
     "name": "stderr",
     "output_type": "stream",
     "text": [
      "GPU available: True, used: True\n",
      "TPU available: False, using: 0 TPU cores\n",
      "IPU available: False, using: 0 IPUs\n",
      "HPU available: False, using: 0 HPUs\n"
     ]
    }
   ],
   "source": [
    "N_EPOCHS = 20\n",
    "trainer = pl.Trainer(\n",
    "    logger = logger,\n",
    "    enable_progress_bar=True,\n",
    "    callbacks = [early_stopping_callback, early_stopping_callback, progress_bar],\n",
    "    max_epochs = N_EPOCHS,\n",
    "    gpus = 1,\n",
    "    )"
   ]
  },
  {
   "cell_type": "markdown",
   "metadata": {},
   "source": [
    "#### Training the Model"
   ]
  },
  {
   "cell_type": "code",
   "execution_count": 18,
   "metadata": {},
   "outputs": [
    {
     "name": "stderr",
     "output_type": "stream",
     "text": [
      "LOCAL_RANK: 0 - CUDA_VISIBLE_DEVICES: [0]\n",
      "\n",
      "  | Name      | Type      | Params\n",
      "----------------------------------------\n",
      "0 | model     | FCNetwork | 704 K \n",
      "1 | criterion | MSELoss   | 0     \n",
      "----------------------------------------\n",
      "704 K     Trainable params\n",
      "0         Non-trainable params\n",
      "704 K     Total params\n",
      "2.819     Total estimated model params size (MB)\n"
     ]
    },
    {
     "data": {
      "application/vnd.jupyter.widget-view+json": {
       "model_id": "0f8dc5457f604e67ab7969f1e608734d",
       "version_major": 2,
       "version_minor": 0
      },
      "text/plain": [
       "Sanity Checking: 0it [00:00, ?it/s]"
      ]
     },
     "metadata": {},
     "output_type": "display_data"
    },
    {
     "data": {
      "application/vnd.jupyter.widget-view+json": {
       "model_id": "236b49bc13b94729a3b5b79658b06f8f",
       "version_major": 2,
       "version_minor": 0
      },
      "text/plain": [
       "Training: 0it [00:00, ?it/s]"
      ]
     },
     "metadata": {},
     "output_type": "display_data"
    }
   ],
   "source": [
    "trainer.fit(model, data_module)"
   ]
  },
  {
   "cell_type": "code",
   "execution_count": null,
   "metadata": {},
   "outputs": [],
   "source": []
  }
 ],
 "metadata": {
  "kernelspec": {
   "display_name": "Python 3.8.10 ('torchy')",
   "language": "python",
   "name": "python3"
  },
  "language_info": {
   "codemirror_mode": {
    "name": "ipython",
    "version": 3
   },
   "file_extension": ".py",
   "mimetype": "text/x-python",
   "name": "python",
   "nbconvert_exporter": "python",
   "pygments_lexer": "ipython3",
   "version": "3.8.10"
  },
  "orig_nbformat": 4,
  "vscode": {
   "interpreter": {
    "hash": "fc9bd49527e5aee315a6409d2f46b2ca195746b4e122e19c133f82451351e8ab"
   }
  }
 },
 "nbformat": 4,
 "nbformat_minor": 2
}
